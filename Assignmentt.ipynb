{
 "cells": [
  {
   "cell_type": "markdown",
   "metadata": {},
   "source": [
    "## import libraries\n"
   ]
  },
  {
   "cell_type": "markdown",
   "metadata": {},
   "source": [
    "#### stop words\n",
    "#### tokenization\n",
    "#### lower +stemming\n",
    "#### exclude punc\n",
    "#### bow"
   ]
  },
  {
   "cell_type": "code",
   "execution_count": 2,
   "metadata": {},
   "outputs": [],
   "source": [
    "import nltk \n",
    "import numpy as np\n",
    "import pandas as pd\n",
    "import matplotlib.pyplot as pt"
   ]
  },
  {
   "cell_type": "markdown",
   "metadata": {},
   "source": [
    "## read data"
   ]
  },
  {
   "cell_type": "code",
   "execution_count": 3,
   "metadata": {},
   "outputs": [],
   "source": [
    "datatsv=pd.read_csv(\"Restaurant_Reviews.tsv\",delimiter='\\t')"
   ]
  },
  {
   "cell_type": "code",
   "execution_count": 4,
   "metadata": {},
   "outputs": [
    {
     "data": {
      "text/html": [
       "<div>\n",
       "<style scoped>\n",
       "    .dataframe tbody tr th:only-of-type {\n",
       "        vertical-align: middle;\n",
       "    }\n",
       "\n",
       "    .dataframe tbody tr th {\n",
       "        vertical-align: top;\n",
       "    }\n",
       "\n",
       "    .dataframe thead th {\n",
       "        text-align: right;\n",
       "    }\n",
       "</style>\n",
       "<table border=\"1\" class=\"dataframe\">\n",
       "  <thead>\n",
       "    <tr style=\"text-align: right;\">\n",
       "      <th></th>\n",
       "      <th>Review</th>\n",
       "      <th>Liked</th>\n",
       "    </tr>\n",
       "  </thead>\n",
       "  <tbody>\n",
       "    <tr>\n",
       "      <th>0</th>\n",
       "      <td>Wow... Loved this place.</td>\n",
       "      <td>1</td>\n",
       "    </tr>\n",
       "    <tr>\n",
       "      <th>1</th>\n",
       "      <td>Crust is not good.</td>\n",
       "      <td>0</td>\n",
       "    </tr>\n",
       "    <tr>\n",
       "      <th>2</th>\n",
       "      <td>Not tasty and the texture was just nasty.</td>\n",
       "      <td>0</td>\n",
       "    </tr>\n",
       "    <tr>\n",
       "      <th>3</th>\n",
       "      <td>Stopped by during the late May bank holiday of...</td>\n",
       "      <td>1</td>\n",
       "    </tr>\n",
       "    <tr>\n",
       "      <th>4</th>\n",
       "      <td>The selection on the menu was great and so wer...</td>\n",
       "      <td>1</td>\n",
       "    </tr>\n",
       "    <tr>\n",
       "      <th>5</th>\n",
       "      <td>Now I am getting angry and I want my damn pho.</td>\n",
       "      <td>0</td>\n",
       "    </tr>\n",
       "    <tr>\n",
       "      <th>6</th>\n",
       "      <td>Honeslty it didn't taste THAT fresh.)</td>\n",
       "      <td>0</td>\n",
       "    </tr>\n",
       "    <tr>\n",
       "      <th>7</th>\n",
       "      <td>The potatoes were like rubber and you could te...</td>\n",
       "      <td>0</td>\n",
       "    </tr>\n",
       "    <tr>\n",
       "      <th>8</th>\n",
       "      <td>The fries were great too.</td>\n",
       "      <td>1</td>\n",
       "    </tr>\n",
       "    <tr>\n",
       "      <th>9</th>\n",
       "      <td>A great touch.</td>\n",
       "      <td>1</td>\n",
       "    </tr>\n",
       "    <tr>\n",
       "      <th>10</th>\n",
       "      <td>Service was very prompt.</td>\n",
       "      <td>1</td>\n",
       "    </tr>\n",
       "    <tr>\n",
       "      <th>11</th>\n",
       "      <td>Would not go back.</td>\n",
       "      <td>0</td>\n",
       "    </tr>\n",
       "    <tr>\n",
       "      <th>12</th>\n",
       "      <td>The cashier had no care what so ever on what I...</td>\n",
       "      <td>0</td>\n",
       "    </tr>\n",
       "    <tr>\n",
       "      <th>13</th>\n",
       "      <td>I tried the Cape Cod ravoli, chicken, with cra...</td>\n",
       "      <td>1</td>\n",
       "    </tr>\n",
       "    <tr>\n",
       "      <th>14</th>\n",
       "      <td>I was disgusted because I was pretty sure that...</td>\n",
       "      <td>0</td>\n",
       "    </tr>\n",
       "    <tr>\n",
       "      <th>15</th>\n",
       "      <td>I was shocked because no signs indicate cash o...</td>\n",
       "      <td>0</td>\n",
       "    </tr>\n",
       "    <tr>\n",
       "      <th>16</th>\n",
       "      <td>Highly recommended.</td>\n",
       "      <td>1</td>\n",
       "    </tr>\n",
       "    <tr>\n",
       "      <th>17</th>\n",
       "      <td>Waitress was a little slow in service.</td>\n",
       "      <td>0</td>\n",
       "    </tr>\n",
       "    <tr>\n",
       "      <th>18</th>\n",
       "      <td>This place is not worth your time, let alone V...</td>\n",
       "      <td>0</td>\n",
       "    </tr>\n",
       "    <tr>\n",
       "      <th>19</th>\n",
       "      <td>did not like at all.</td>\n",
       "      <td>0</td>\n",
       "    </tr>\n",
       "  </tbody>\n",
       "</table>\n",
       "</div>"
      ],
      "text/plain": [
       "                                               Review  Liked\n",
       "0                            Wow... Loved this place.      1\n",
       "1                                  Crust is not good.      0\n",
       "2           Not tasty and the texture was just nasty.      0\n",
       "3   Stopped by during the late May bank holiday of...      1\n",
       "4   The selection on the menu was great and so wer...      1\n",
       "5      Now I am getting angry and I want my damn pho.      0\n",
       "6               Honeslty it didn't taste THAT fresh.)      0\n",
       "7   The potatoes were like rubber and you could te...      0\n",
       "8                           The fries were great too.      1\n",
       "9                                      A great touch.      1\n",
       "10                           Service was very prompt.      1\n",
       "11                                 Would not go back.      0\n",
       "12  The cashier had no care what so ever on what I...      0\n",
       "13  I tried the Cape Cod ravoli, chicken, with cra...      1\n",
       "14  I was disgusted because I was pretty sure that...      0\n",
       "15  I was shocked because no signs indicate cash o...      0\n",
       "16                                Highly recommended.      1\n",
       "17             Waitress was a little slow in service.      0\n",
       "18  This place is not worth your time, let alone V...      0\n",
       "19                               did not like at all.      0"
      ]
     },
     "execution_count": 4,
     "metadata": {},
     "output_type": "execute_result"
    }
   ],
   "source": [
    "datatsv.head(20)"
   ]
  },
  {
   "cell_type": "code",
   "execution_count": 5,
   "metadata": {},
   "outputs": [
    {
     "data": {
      "text/plain": [
       "1000"
      ]
     },
     "execution_count": 5,
     "metadata": {},
     "output_type": "execute_result"
    }
   ],
   "source": [
    "datatsv.__len__()"
   ]
  },
  {
   "cell_type": "markdown",
   "metadata": {},
   "source": [
    "## preprocessing"
   ]
  },
  {
   "cell_type": "code",
   "execution_count": 6,
   "metadata": {},
   "outputs": [
    {
     "name": "stderr",
     "output_type": "stream",
     "text": [
      "[nltk_data] Downloading package stopwords to C:\\Users\\noor\n",
      "[nltk_data]     waleed\\AppData\\Roaming\\nltk_data...\n",
      "[nltk_data]   Package stopwords is already up-to-date!\n"
     ]
    },
    {
     "data": {
      "text/plain": [
       "True"
      ]
     },
     "execution_count": 6,
     "metadata": {},
     "output_type": "execute_result"
    }
   ],
   "source": [
    "import re\n",
    "nltk.download('stopwords')\n"
   ]
  },
  {
   "cell_type": "markdown",
   "metadata": {},
   "source": [
    "#### importing important modules"
   ]
  },
  {
   "cell_type": "code",
   "execution_count": 7,
   "metadata": {},
   "outputs": [],
   "source": [
    "from nltk.corpus import stopwords\n",
    "from nltk.stem.porter import PorterStemmer\n",
    "lem=PorterStemmer()\n",
    "\n"
   ]
  },
  {
   "cell_type": "code",
   "execution_count": 8,
   "metadata": {},
   "outputs": [],
   "source": [
    "stop_words=stopwords.words(\"english\")"
   ]
  },
  {
   "cell_type": "code",
   "execution_count": 9,
   "metadata": {},
   "outputs": [],
   "source": [
    "rev=datatsv['Review'][0]"
   ]
  },
  {
   "cell_type": "code",
   "execution_count": 10,
   "metadata": {},
   "outputs": [
    {
     "data": {
      "text/plain": [
       "'Wow... Loved this place.'"
      ]
     },
     "execution_count": 10,
     "metadata": {},
     "output_type": "execute_result"
    }
   ],
   "source": [
    "rev"
   ]
  },
  {
   "cell_type": "code",
   "execution_count": 11,
   "metadata": {},
   "outputs": [
    {
     "data": {
      "text/plain": [
       "['Wow...', 'Loved', 'this', 'place.']"
      ]
     },
     "execution_count": 11,
     "metadata": {},
     "output_type": "execute_result"
    }
   ],
   "source": [
    "tokens=rev.split()\n",
    "tokens"
   ]
  },
  {
   "cell_type": "code",
   "execution_count": 12,
   "metadata": {},
   "outputs": [],
   "source": [
    "clean_text=[]\n",
    "for word in tokens:\n",
    "    if word.lower() not in stop_words:\n",
    "        clean_text.append(word.lower())"
   ]
  },
  {
   "cell_type": "code",
   "execution_count": 13,
   "metadata": {},
   "outputs": [
    {
     "name": "stdout",
     "output_type": "stream",
     "text": [
      "['Wow...', 'Loved', 'this', 'place.']\n",
      "['wow...', 'loved', 'place.']\n"
     ]
    }
   ],
   "source": [
    "print(tokens)\n",
    "print(clean_text)"
   ]
  },
  {
   "cell_type": "code",
   "execution_count": 14,
   "metadata": {},
   "outputs": [],
   "source": [
    "lem_words=[]\n",
    "for word in clean_text:\n",
    "    lem_words.append(lem.stem(word))"
   ]
  },
  {
   "cell_type": "code",
   "execution_count": 15,
   "metadata": {},
   "outputs": [
    {
     "data": {
      "text/plain": [
       "['wow...', 'love', 'place.']"
      ]
     },
     "execution_count": 15,
     "metadata": {},
     "output_type": "execute_result"
    }
   ],
   "source": [
    "lem_words"
   ]
  },
  {
   "cell_type": "code",
   "execution_count": 67,
   "metadata": {},
   "outputs": [],
   "source": [
    "corpusdata = []\n",
    "for i in range (0, 1000):\n",
    "    review=re.sub('^\\s+',\"\",datatsv['Review'][i]) # remove space \n",
    "    review=re.sub('\\s+$',\"\",datatsv['Review'][i]) \n",
    "    review=re.sub('\\s\\d+\\s',\"\",datatsv['Review'][i]) \n",
    "    review=re.sub('\\s[a-zA-Z]\\s',\"\",datatsv['Review'][i]) \n",
    "    review=re.sub('[^\\w\\s]',\"\",datatsv['Review'][i])  ## remove punc\n",
    "\n",
    "   \n",
    "    \n",
    "    review = review.lower()\n",
    "    review = review.split()\n",
    "    review = [lem.stem(word) for word in review if word not in stop_words]\n",
    "    review = ' '.join(review)\n",
    "    corpusdata.append(review)\n",
    "    \n",
    "    ## without the join the corpus data is list of list\n",
    "    "
   ]
  },
  {
   "cell_type": "code",
   "execution_count": 57,
   "metadata": {},
   "outputs": [
    {
     "name": "stdout",
     "output_type": "stream",
     "text": [
      "12\n"
     ]
    }
   ],
   "source": [
    "print(len(review))"
   ]
  },
  {
   "cell_type": "code",
   "execution_count": 58,
   "metadata": {},
   "outputs": [
    {
     "name": "stdout",
     "output_type": "stream",
     "text": [
      "1000\n"
     ]
    }
   ],
   "source": [
    "print(len(corpusdata))"
   ]
  },
  {
   "cell_type": "code",
   "execution_count": 59,
   "metadata": {},
   "outputs": [
    {
     "name": "stdout",
     "output_type": "stream",
     "text": [
      "[['wow', 'love', 'place'], ['crust', 'good'], ['tasti', 'textur', 'nasti'], ['stop', 'late', 'may', 'bank', 'holiday', 'rick', 'steve', 'recommend', 'love'], ['select', 'menu', 'great', 'price'], ['get', 'angri', 'want', 'damn', 'pho'], ['honeslti', 'didnt', 'tast', 'fresh'], ['potato', 'like', 'rubber', 'could', 'tell', 'made', 'ahead', 'time', 'kept', 'warmer'], ['fri', 'great'], ['great', 'touch'], ['servic', 'prompt'], ['would', 'go', 'back'], ['cashier', 'care', 'ever', 'say', 'still', 'end', 'wayyy', 'overpr'], ['tri', 'cape', 'cod', 'ravoli', 'chicken', 'cranberrymmmm'], ['disgust', 'pretti', 'sure', 'human', 'hair'], ['shock', 'sign', 'indic', 'cash'], ['highli', 'recommend'], ['waitress', 'littl', 'slow', 'servic'], ['place', 'worth', 'time', 'let', 'alon', 'vega'], ['like'], ['burritto', 'blah'], ['food', 'amaz'], ['servic', 'also', 'cute'], ['could', 'care', 'less', 'interior', 'beauti'], ['perform'], ['that', 'rightth', 'red', 'velvet', 'cakeohhh', 'stuff', 'good'], ['never', 'brought', 'salad', 'ask'], ['hole', 'wall', 'great', 'mexican', 'street', 'taco', 'friendli', 'staff'], ['took', 'hour', 'get', 'food', '4', 'tabl', 'restaur', 'food', 'luke', 'warm', 'sever', 'run', 'around', 'like', 'total', 'overwhelm'], ['worst', 'salmon', 'sashimi'], ['also', 'combo', 'like', 'burger', 'fri', 'beer', '23', 'decent', 'deal'], ['like', 'final', 'blow'], ['found', 'place', 'accid', 'could', 'happier'], ['seem', 'like', 'good', 'quick', 'place', 'grab', 'bite', 'familiar', 'pub', 'food', 'favor', 'look', 'elsewher'], ['overal', 'like', 'place', 'lot'], ['redeem', 'qualiti', 'restaur', 'inexpens'], ['ampl', 'portion', 'good', 'price'], ['poor', 'servic', 'waiter', 'made', 'feel', 'like', 'stupid', 'everi', 'time', 'came', 'tabl'], ['first', 'visit', 'hiro', 'delight'], ['servic', 'suck'], ['shrimp', 'tender', 'moist'], ['deal', 'good', 'enough', 'would', 'drag', 'establish'], ['hard', 'judg', 'whether', 'side', 'good', 'gross', 'melt', 'styrofoam', 'didnt', 'want', 'eat', 'fear', 'get', 'sick'], ['posit', 'note', 'server', 'attent', 'provid', 'great', 'servic'], ['frozen', 'puck', 'disgust', 'worst', 'peopl', 'behind', 'regist'], ['thing', 'like', 'prime', 'rib', 'dessert', 'section'], ['bad', 'food', 'damn', 'gener'], ['burger', 'good', 'beef', 'cook', 'right'], ['want', 'sandwich', 'go', 'firehous'], ['side', 'greek', 'salad', 'greek', 'dress', 'tasti', 'pita', 'hummu', 'refresh'], ['order', 'duck', 'rare', 'pink', 'tender', 'insid', 'nice', 'char', 'outsid'], ['came', 'run', 'us', 'realiz', 'husband', 'left', 'sunglass', 'tabl'], ['chow', 'mein', 'good'], ['horribl', 'attitud', 'toward', 'custom', 'talk', 'one', 'custom', 'dont', 'enjoy', 'food'], ['portion', 'huge'], ['love', 'itfriendli', 'server', 'great', 'food', 'wonder', 'imagin', 'menu'], ['heart', 'attack', 'grill', 'downtown', 'vega', 'absolut', 'flatlin', 'excus', 'restaur'], ['much', 'seafood', 'like', '5', 'string', 'pasta', 'bottom'], ['salad', 'right', 'amount', 'sauc', 'power', 'scallop', 'perfectli', 'cook'], ['rip', 'banana', 'rip', 'petrifi', 'tasteless'], ['least', 'think', 'refil', 'water', 'struggl', 'wave', '10', 'minut'], ['place', 'receiv', 'star', 'appet'], ['cocktail', 'handmad', 'delici'], ['wed', 'definit', 'go', 'back'], ['glad', 'found', 'place'], ['great', 'food', 'servic', 'huge', 'portion', 'give', 'militari', 'discount'], ['alway', 'great', 'time', 'do', 'gringo'], ['updatew', 'back', 'second', 'time', 'still', 'amaz'], ['got', 'food', 'appar', 'never', 'heard', 'salt', 'batter', 'fish', 'chewi'], ['great', 'way', 'finish', 'great'], ['deal', 'includ', '5', 'tast', '2', 'drink', 'jeff', 'went', 'beyond', 'expect'], ['realli', 'realli', 'good', 'rice', 'time'], ['servic', 'meh'], ['took', '30', 'min', 'get', 'milkshak', 'noth', 'chocol', 'milk'], ['guess', 'known', 'place', 'would', 'suck', 'insid', 'excalibur', 'didnt', 'use', 'common', 'sens'], ['scallop', 'dish', 'quit', 'appal', 'valu', 'well'], ['2', 'time', 'bad', 'custom', 'servic'], ['sweet', 'potato', 'fri', 'good', 'season', 'well'], ['today', 'second', 'time', 'ive', 'lunch', 'buffet', 'pretti', 'good'], ['much', 'good', 'food', 'vega', 'feel', 'cheat', 'wast', 'eat', 'opportun', 'go', 'rice', 'compani'], ['come', 'like', 'experienc', 'underwhelm', 'relationship', 'parti', 'cant', 'wait', 'person', 'ask', 'break'], ['walk', 'place', 'smell', 'like', 'old', 'greas', 'trap', '2', 'other', 'eat'], ['turkey', 'roast', 'beef', 'bland'], ['place'], ['pan', 'cake', 'everyon', 'rave', 'tast', 'like', 'sugari', 'disast', 'tailor', 'palat', 'six', 'year', 'old'], ['love', 'pho', 'spring', 'roll', 'oh', 'yummi', 'tri'], ['poor', 'batter', 'meat', 'ratio', 'made', 'chicken', 'tender', 'unsatisfi'], ['say', 'food', 'amaz'], ['omelet', 'die'], ['everyth', 'fresh', 'delici'], ['summari', 'larg', 'disappoint', 'dine', 'experi'], ['like', 'realli', 'sexi', 'parti', 'mouth', 'your', 'outrag', 'flirt', 'hottest', 'person', 'parti'], ['never', 'hard', 'rock', 'casino', 'never', 'ever', 'step', 'forward'], ['best', 'breakfast', 'buffet'], ['say', 'bye', 'bye', 'tip', 'ladi'], ['well', 'never', 'go'], ['back'], ['food', 'arriv', 'quickli'], ['good'], ['side', 'cafe', 'serv', 'realli', 'good', 'food'], ['server', 'fantast', 'found', 'wife', 'love', 'roast', 'garlic', 'bone', 'marrow', 'ad', 'extra', 'meal', 'anoth', 'marrow', 'go'], ['good', 'thing', 'waiter', 'help', 'kept', 'bloddi', 'mari', 'come'], ['best', 'buffet', 'town', 'price', 'cannot', 'beat'], ['love', 'mussel', 'cook', 'wine', 'reduct', 'duck', 'tender', 'potato', 'dish', 'delici'], ['one', 'better', 'buffet'], ['went', 'tigerlilli', 'fantast', 'afternoon'], ['food', 'delici', 'bartend', 'attent', 'person', 'got', 'great', 'deal'], ['ambienc', 'wonder', 'music', 'play'], ['go', 'back', 'next', 'trip'], ['sooooo', 'good'], ['real', 'sushi', 'lover', 'let', 'honest', 'yama', 'good'], ['least', '40min', 'pass', 'us', 'order', 'food', 'arriv', 'wasnt', 'busi'], ['realli', 'fantast', 'thai', 'restaur', 'definit', 'worth', 'visit'], ['nice', 'spici', 'tender'], ['good', 'price'], ['check'], ['pretti', 'gross'], ['ive', 'better', 'atmospher'], ['kind', 'hard', 'mess', 'steak'], ['although', 'much', 'like', 'look', 'sound', 'place', 'actual', 'experi', 'bit', 'disappoint'], ['dont', 'know', 'place', 'manag', 'serv', 'blandest', 'food', 'ever', 'eaten', 'prepar', 'indian', 'cuisin'], ['worst', 'servic', 'boot', 'least', 'worri'], ['servic', 'fine', 'waitress', 'friendli'], ['guy', 'steak', 'steak', 'love', 'son', 'steak', 'best', 'worst', 'place', 'said', 'best', 'steak', 'he', 'ever', 'eaten'], ['thought', 'youd', 'ventur', 'away', 'get', 'good', 'sushi', 'place', 'realli', 'hit', 'spot', 'night'], ['host', 'staff', 'lack', 'better', 'word', 'bitch'], ['bland', 'like', 'place', 'number', 'reason', 'dont', 'want', 'wast', 'time', 'bad', 'review', 'ill', 'leav'], ['phenomen', 'food', 'servic', 'ambianc'], ['wouldnt', 'return'], ['definit', 'worth', 'ventur', 'strip', 'pork', 'belli', 'return', 'next', 'time', 'im', 'vega'], ['place', 'way', 'overpr', 'mediocr', 'food'], ['penn', 'vodka', 'excel'], ['good', 'select', 'food', 'includ', 'massiv', 'meatloaf', 'sandwich', 'crispi', 'chicken', 'wrap', 'delish', 'tuna', 'melt', 'tasti', 'burger'], ['manag', 'rude'], ['delici', 'nyc', 'bagel', 'good', 'select', 'cream', 'chees', 'real', 'lox', 'caper', 'even'], ['great', 'subway', 'fact', 'good', 'come', 'everi', 'subway', 'meet', 'expect'], ['serious', 'solid', 'breakfast'], ['one', 'best', 'bar', 'food', 'vega'], ['extrem', 'rude', 'realli', 'mani', 'restaur', 'would', 'love', 'dine', 'weekend', 'vega'], ['drink', 'never', 'empti', 'made', 'realli', 'great', 'menu', 'suggest'], ['dont'], ['waiter', 'wasnt', 'help', 'friendli', 'rare', 'check', 'us'], ['husband', 'ate', 'lunch', 'disappoint', 'food', 'servic'], ['red', 'curri', 'much', 'bamboo', 'shoot', 'wasnt', 'tasti'], ['nice', 'blanket', 'moz', 'top', 'feel', 'like', 'done', 'cover', 'subpar', 'food'], ['bathroom', 'clean', 'place', 'well', 'decor'], ['menu', 'alway', 'chang', 'food', 'qualiti', 'go', 'servic', 'extrem', 'slow'], ['servic', 'littl', 'slow', 'consid', 'serv', '3', 'peopl', 'server', 'food', 'come', 'slow', 'pace'], ['give', '2', 'thumb'], ['watch', 'waiter', 'pay', 'lot', 'attent', 'tabl', 'ignor', 'us'], ['fiancé', 'came', 'middl', 'day', 'greet', 'seat', 'right', 'away'], ['great', 'restaur', 'mandalay', 'bay'], ['wait', 'forti', 'five', 'minut', 'vain'], ['crostini', 'came', 'salad', 'stale'], ['highlight', 'great', 'qualiti', 'nigiri'], ['staff', 'friendli', 'joint', 'alway', 'clean'], ['differ', 'cut', 'piec', 'day', 'still', 'wonder', 'tender', 'well', 'well', 'flavor'], ['order', 'voodoo', 'pasta', 'first', 'time', 'id', 'realli', 'excel', 'pasta', 'sinc', 'go', 'gluten', 'free', 'sever', 'year', 'ago'], ['place', 'good'], ['unfortun', 'must', 'hit', 'bakeri', 'leftov', 'day', 'everyth', 'order', 'stale'], ['came', 'back', 'today', 'sinc', 'reloc', 'still', 'impress'], ['seat', 'immedi'], ['menu', 'divers', 'reason', 'price'], ['avoid', 'cost'], ['restaur', 'alway', 'full', 'never', 'wait'], ['delici'], ['place', 'handsdown', 'one', 'best', 'place', 'eat', 'phoenix', 'metro', 'area'], ['dont', 'go', 'look', 'good', 'food'], ['ive', 'never', 'treat', 'bad'], ['bacon', 'hella', 'salti'], ['also', 'order', 'spinach', 'avocado', 'salad', 'ingredi', 'sad', 'dress', 'liter', 'zero', 'tast'], ['realli', 'vega', 'fine', 'dine', 'use', 'right', 'menu', 'hand', 'ladi', 'price', 'list'], ['waitress', 'friendli'], ['lordi', 'khao', 'soi', 'dish', 'miss', 'curri', 'lover'], ['everyth', 'menu', 'terrif', 'also', 'thrill', 'made', 'amaz', 'accommod', 'vegetarian', 'daughter'], ['perhap', 'caught', 'night', 'judg', 'review', 'im', 'inspir', 'go', 'back'], ['servic', 'leav', 'lot', 'desir'], ['atmospher', 'modern', 'hip', 'maintain', 'touch', 'cozi'], ['weekli', 'haunt', 'definit', 'place', 'come', 'back', 'everi'], ['liter', 'sat', '20', 'minut', 'one', 'ask', 'take', 'order'], ['burger', 'absolut', 'flavor', 'meat', 'total', 'bland', 'burger', 'overcook', 'charcoal', 'flavor'], ['also', 'decid', 'send', 'back', 'waitress', 'look', 'like', 'verg', 'heart', 'attack'], ['dress', 'treat', 'rude'], ['probabl', 'dirt'], ['love', 'place', 'hit', 'spot', 'want', 'someth', 'healthi', 'lack', 'quantiti', 'flavor'], ['order', 'lemon', 'raspberri', 'ice', 'cocktail', 'also', 'incred'], ['food', 'suck', 'expect', 'suck', 'could', 'imagin'], ['interest', 'decor'], ['realli', 'like', 'crepe', 'station'], ['also', 'serv', 'hot', 'bread', 'butter', 'home', 'made', 'potato', 'chip', 'bacon', 'bit', 'topveri', 'origin', 'good'], ['watch', 'prepar', 'delici', 'food'], ['egg', 'roll', 'fantast'], ['order', 'arriv', 'one', 'gyro', 'miss'], ['salad', 'wing', 'ice', 'cream', 'dessert', 'left', 'feel', 'quit', 'satisfi'], ['im', 'realli', 'sure', 'joey', 'vote', 'best', 'hot', 'dog', 'valley', 'reader', 'phoenix', 'magazin'], ['best', 'place', 'go', 'tasti', 'bowl', 'pho'], ['live', 'music', 'friday', 'total', 'blow'], ['ive', 'never', 'insult', 'felt', 'disrespect'], ['friendli', 'staff'], ['worth', 'drive'], ['heard', 'good', 'thing', 'place', 'exceed', 'everi', 'hope', 'could', 'dream'], ['food', 'great', 'serivc'], ['warm', 'beer', 'didnt', 'help'], ['great', 'brunch', 'spot'], ['servic', 'friendli', 'invit'], ['good', 'lunch', 'spot'], ['ive', 'live', 'sinc', '1979', 'first', 'last', 'time', 'ive', 'step', 'foot', 'place'], ['worst', 'experi', 'ever'], ['must', 'night', 'place'], ['side', 'delish', 'mix', 'mushroom', 'yukon', 'gold', 'pure', 'white', 'corn', 'beateou'], ['bug', 'never', 'show', 'would', 'given', '4', 'sure', 'side', 'wall', 'bug', 'climb', 'kitchen'], ['10', 'minut', 'wait', 'salad', 'realiz', 'wasnt', 'come', 'time', 'soon'], ['friend', 'love', 'salmon', 'tartar'], ['wont', 'go', 'back'], ['extrem', 'tasti'], ['waitress', 'good', 'though'], ['soggi', 'good'], ['jamaican', 'mojito', 'delici'], ['small', 'worth', 'price'], ['food', 'rich', 'order', 'accordingli'], ['shower', 'area', 'outsid', 'rins', 'take', 'full', 'shower', 'unless', 'dont', 'mind', 'nude', 'everyon', 'see'], ['servic', 'bit', 'lack'], ['lobster', 'bisqu', 'bussel', 'sprout', 'risotto', 'filet', 'need', 'salt', 'pepperand', 'cours', 'none', 'tabl'], ['hope', 'bode', 'go', 'busi', 'someon', 'cook', 'come'], ['either', 'cold', 'enough', 'flavor', 'bad'], ['love', 'bacon', 'wrap', 'date'], ['unbeliev', 'bargain'], ['folk', 'otto', 'alway', 'make', 'us', 'feel', 'welcom', 'special'], ['main', 'also', 'uninspir'], ['place', 'first', 'pho', 'amaz'], ['wonder', 'experi', 'made', 'place', 'muststop', 'whenev', 'town'], ['food', 'isnt', 'bad', 'enough', 'enjoy', 'deal', 'world', 'worstannoy', 'drunk', 'peopl'], ['fun', 'chef'], ['order', 'doubl', 'cheeseburg', 'got', 'singl', 'patti', 'fall', 'apart', 'pictur', 'upload', 'yeah', 'still', 'suck'], ['great', 'place', 'coupl', 'drink', 'watch', 'sport', 'event', 'wall', 'cover', 'tv'], ['possibl', 'give', 'zero', 'star', 'theyd'], ['descript', 'said', 'yum', 'yum', 'sauc', 'anoth', 'said', 'eel', 'sauc', 'yet', 'anoth', 'said', 'spici', 'mayowel', 'none', 'roll', 'sauc'], ['id', 'say', 'would', 'hardest', 'decis', 'honestli', 'ms', 'dish', 'tast', 'suppos', 'tast', 'amaz'], ['roll', 'eye', 'may', 'stay', 'sure', 'go', 'back', 'tri'], ['everyon', 'attent', 'provid', 'excel', 'custom', 'servic'], ['horribl', 'dont', 'wast', 'time', 'money'], ['dish', 'quit', 'flavour'], ['time', 'side', 'restaur', 'almost', 'empti', 'excus'], ['wasnt', 'busi', 'either', 'also', 'build', 'freez', 'cold'], ['like', 'review', 'said', 'couldnt', 'pay', 'eat', 'place'], ['drink', 'took', 'close', '30', 'minut', 'come', 'one', 'point'], ['serious', 'flavor', 'delight', 'folk'], ['much', 'better', 'ayc', 'sushi', 'place', 'went', 'vega'], ['light', 'dark', 'enough', 'set', 'mood'], ['base', 'subpar', 'servic', 'receiv', 'effort', 'show', 'gratitud', 'busi', 'wont', 'go', 'back'], ['owner', 'realli', 'great', 'peopl'], ['noth', 'privileg', 'working'], ['greek', 'dress', 'creami', 'flavor'], ['overal', 'dont', 'think', 'would', 'take', 'parent', 'place', 'made', 'similar', 'complaint', 'silent', 'felt'], ['pizza', 'good', 'peanut', 'sauc', 'tasti'], ['7', 'tabl', 'servic', 'pretti', 'fast'], ['fantast', 'servic'], ['well', 'wouldv', 'given', 'godfath', 'zero', 'star', 'possibl'], ['know', 'make'], ['tough', 'short', 'flavor'], ['hope', 'place', 'stick', 'around'], ['bar', 'vega', 'ever', 'recal', 'charg', 'tap', 'water'], ['restaur', 'atmospher', 'exquisit'], ['good', 'servic', 'clean', 'inexpens', 'boot'], ['seafood', 'fresh', 'gener', 'portion'], ['plu', '8', 'buck'], ['servic', 'par', 'either'], ['thu', 'far', 'visit', 'twice', 'food', 'absolut', 'delici', 'time'], ['good', 'year', 'ago'], ['self', 'proclaim', 'coffe', 'cafe', 'wildli', 'disappoint'], ['veggitarian', 'platter', 'world'], ['cant', 'go', 'wrong', 'food'], ['cant', 'beat'], ['stop', 'place', 'madison', 'ironman', 'friendli', 'kind', 'staff'], ['chef', 'friendli', 'good', 'job'], ['ive', 'better', 'dedic', 'boba', 'tea', 'spot', 'even', 'jenni', 'pho'], ['like', 'patio', 'servic', 'outstand'], ['goat', 'taco', 'didnt', 'skimp', 'meat', 'wow', 'flavor'], ['think'], ['mac', 'salad', 'pretti', 'bland', 'get'], ['went', 'bachi', 'burger', 'friend', 'recommend', 'disappoint'], ['servic', 'stink'], ['wait', 'wait'], ['place', 'qualiti', 'sushi', 'qualiti', 'restaur'], ['would', 'definit', 'recommend', 'wing', 'well', 'pizza'], ['great', 'pizza', 'salad'], ['thing', 'went', 'wrong', 'burn', 'saganaki'], ['wait', 'hour', 'breakfast', 'could', 'done', '100', 'time', 'better', 'home'], ['place', 'amaz'], ['hate', 'disagre', 'fellow', 'yelper', 'husband', 'disappoint', 'place'], ['wait', '2', 'hour', 'never', 'got', 'either', 'pizza', 'mani', 'around', 'us', 'came', 'later'], ['dont', 'know', 'slow'], ['staff', 'great', 'food', 'delish', 'incred', 'beer', 'select'], ['live', 'neighborhood', 'disappoint', 'wont', 'back', 'conveni', 'locat'], ['didnt', 'know', 'pull', 'pork', 'could', 'soooo', 'delici'], ['get', 'incred', 'fresh', 'fish', 'prepar', 'care'], ['go', 'gave', '1', 'star', 'rate', 'pleas', 'know', 'third', 'time', 'eat', 'bachi', 'burger', 'write', 'review'], ['love', 'fact', 'everyth', 'menu', 'worth'], ['never', 'dine', 'place'], ['food', 'excel', 'servic', 'good'], ['good', 'beer', 'drink', 'select', 'good', 'food', 'select'], ['pleas', 'stay', 'away', 'shrimp', 'stir', 'fri', 'noodl'], ['potato', 'chip', 'order', 'sad', 'could', 'probabl', 'count', 'mani', 'chip', 'box', 'probabl', 'around', '12'], ['food', 'realli', 'bore'], ['good', 'servicecheck'], ['greedi', 'corpor', 'never', 'see', 'anoth', 'dime'], ['never', 'ever', 'go', 'back'], ['much', 'id', 'like', 'go', 'back', 'cant', 'get', 'pass', 'atroci', 'servic', 'never', 'return'], ['summer', 'dine', 'charm', 'outdoor', 'patio', 'delight'], ['expect', 'good'], ['fantast', 'food'], ['order', 'toast', 'english', 'muffin', 'came', 'untoast'], ['food', 'good'], ['never', 'go', 'back'], ['great', 'food', 'price', 'high', 'qualiti', 'hous', 'made'], ['bu', 'boy', 'hand', 'rude'], ['point', 'friend', 'basic', 'figur', 'place', 'joke', 'didnt', 'mind', 'make', 'publicli', 'loudli', 'known'], ['back', 'good', 'bbq', 'lighter', 'fare', 'reason', 'price', 'tell', 'public', 'back', 'old', 'way'], ['consid', 'two', 'us', 'left', 'full', 'happi', '20', 'cant', 'go', 'wrong'], ['bread', 'made', 'inhous'], ['downsid', 'servic'], ['also', 'fri', 'without', 'doubt', 'worst', 'fri', 'ive', 'ever'], ['servic', 'except', 'food', 'good', 'review'], ['coupl', 'month', 'later', 'return', 'amaz', 'meal'], ['favorit', 'place', 'town', 'shawarrrrrrma'], ['black', 'eye', 'pea', 'sweet', 'potato', 'unreal'], ['wont', 'disappoint'], ['could', 'serv', 'vinaigrett', 'may', 'make', 'better', 'overal', 'dish', 'still', 'good'], ['go', 'far', 'mani', 'place', 'ive', 'never', 'seen', 'restaur', 'serv', '1', 'egg', 'breakfast', 'especi', '400'], ['mom', 'got', 'home', 'immedi', 'got', 'sick', 'bite', 'salad'], ['server', 'pleasant', 'deal', 'dont', 'alway', 'honor', 'pizza', 'hut', 'coupon'], ['truli', 'unbeliev', 'good', 'glad', 'went', 'back'], ['fantast', 'servic', 'pleas', 'atmospher'], ['everyth', 'gross'], ['love', 'place'], ['great', 'servic', 'food'], ['first', 'bathroom', 'locat', 'dirti', 'seat', 'cover', 'replenish', 'plain', 'yucki'], ['burger', 'got', 'gold', 'standard', '17', 'burger', 'kind', 'disappoint'], ['omg', 'food', 'delicioso'], ['noth', 'authent', 'place'], ['spaghetti', 'noth', 'special', 'whatsoev'], ['dish', 'salmon', 'best', 'great'], ['veget', 'fresh', 'sauc', 'feel', 'like', 'authent', 'thai'], ['worth', 'drive', 'tucson'], ['select', 'probabl', 'worst', 'ive', 'seen', 'vegasther', 'none'], ['pretti', 'good', 'beer', 'select'], ['place', 'like', 'chipotl', 'better'], ['classywarm', 'atmospher', 'fun', 'fresh', 'appet', 'succul', 'steak', 'basebal', 'steak'], ['5', 'star', 'brick', 'oven', 'bread', 'app'], ['eaten', 'multipl', 'time', 'time', 'food', 'delici'], ['sat', 'anoth', 'ten', 'minut', 'final', 'gave', 'left'], ['terribl'], ['everyon', 'treat', 'equal', 'special'], ['shouldnt', 'take', '30', 'min', 'pancak', 'egg'], ['delici'], ['good', 'side', 'staff', 'genuin', 'pleasant', 'enthusiast', 'real', 'treat'], ['sadli', 'gordon', 'ramsey', 'steak', 'place', 'shall', 'sharpli', 'avoid', 'next', 'trip', 'vega'], ['alway', 'even', 'wonder', 'food', 'delici'], ['best', 'fish', 'ive', 'ever', 'life'], ['bathroom', 'next', 'door', 'nice'], ['buffet', 'small', 'food', 'offer', 'bland'], ['outstand', 'littl', 'restaur', 'best', 'food', 'ever', 'tast'], ['pretti', 'cool', 'would', 'say'], ['definit', 'turn', 'doubt', 'ill', 'back', 'unless', 'someon', 'els', 'buy'], ['server', 'great', 'job', 'handl', 'larg', 'rowdi', 'tabl'], ['find', 'wast', 'food', 'despic', 'wasnt', 'food'], ['wife', 'lobster', 'bisqu', 'soup', 'lukewarm'], ['would', 'come', 'back', 'sushi', 'crave', 'vega'], ['staff', 'great', 'ambianc', 'great'], ['deserv', '5', 'star'], ['left', 'stomach', 'ach', 'felt', 'sick', 'rest', 'day'], ['drop', 'ball'], ['dine', 'space', 'tini', 'elegantli', 'decor', 'comfort'], ['custom', 'order', 'way', 'youd', 'like', 'usual', 'eggplant', 'green', 'bean', 'stir', 'fri', 'love'], ['bean', 'rice', 'mediocr', 'best'], ['best', 'taco', 'town', 'far'], ['took', 'back', 'money', 'got', 'outta'], ['interest', 'part', 'town', 'place', 'amaz'], ['rude', 'inconsider', 'manag'], ['staff', 'friendli', 'wait', 'time', 'serv', 'horribl', 'one', 'even', 'say', 'hi', 'first', '10', 'minut'], ['wont', 'back'], ['great', 'dinner'], ['servic', 'outshin', 'definit', 'recommend', 'halibut'], ['food', 'terribl'], ['never', 'ever', 'go', 'back', 'told', 'mani', 'peopl', 'happen'], ['dont', 'recommend', 'unless', 'car', 'break', 'front', 'starv'], ['come', 'back', 'everi', 'time', 'im', 'vega'], ['place', 'deserv', 'one', 'star', '90', 'food'], ['disgrac'], ['def', 'come', 'back', 'bowl', 'next', 'time'], ['want', 'healthi', 'authent', 'ethic', 'food', 'tri', 'place'], ['continu', 'come', 'ladi', 'night', 'andddd', 'date', 'night', 'highli', 'recommend', 'place', 'anyon', 'area'], ['sever', 'time', 'past', 'experi', 'alway', 'great'], ['walk', 'away', 'stuf', 'happi', 'first', 'vega', 'buffet', 'experi'], ['servic', 'excel', 'price', 'pretti', 'reason', 'consid', 'vega', 'locat', 'insid', 'crystal', 'shop', 'mall', 'aria'], ['summar', 'food', 'incred', 'nay', 'transcend', 'noth', 'bring', 'joy', 'quit', 'like', 'memori', 'pneumat', 'condiment', 'dispens'], ['im', 'probabl', 'one', 'peopl', 'ever', 'go', 'ian', 'like'], ['kid', 'pizza', 'alway', 'hit', 'lot', 'great', 'side', 'dish', 'option', 'kiddo'], ['servic', 'perfect', 'famili', 'atmospher', 'nice', 'see'], ['cook', 'perfect', 'servic', 'impecc'], ['one', 'simpli', 'disappoint'], ['overal', 'disappoint', 'qualiti', 'food', 'bouchon'], ['dont', 'account', 'know', 'im', 'get', 'screw'], ['great', 'place', 'eat', 'remind', 'littl', 'mom', 'pop', 'shop', 'san', 'francisco', 'bay', 'area'], ['today', 'first', 'tast', 'buldogi', 'gourmet', 'hot', 'dog', 'tell', 'ever', 'thought', 'possibl'], ['left', 'frustrat'], ['ill', 'definit', 'soon'], ['food', 'realli', 'good', 'got', 'full', 'petti', 'fast'], ['servic', 'fantast'], ['total', 'wast', 'time'], ['dont', 'know', 'kind', 'best', 'ice', 'tea'], ['come', 'hungri', 'leav', 'happi', 'stuf'], ['servic', 'give', 'star'], ['assur', 'wont', 'disappoint'], ['take', 'littl', 'bad', 'servic', 'food', 'suck'], ['gave', 'tri', 'eat', 'crust', 'teeth', 'still', 'sore'], ['complet', 'gross'], ['realli', 'enjoy', 'eat'], ['first', 'time', 'go', 'think', 'quickli', 'becom', 'regular'], ['server', 'nice', 'even', 'though', 'look', 'littl', 'overwhelm', 'need', 'stay', 'profession', 'friendli', 'end'], ['dinner', 'companion', 'told', 'meeveryth', 'fresh', 'nice', 'textur', 'tast'], ['ground', 'right', 'next', 'tabl', 'larg', 'smear', 'beensteppedinandtrackedeverywher', 'pile', 'green', 'bird', 'poop'], ['furthermor', 'cant', 'even', 'find', 'hour', 'oper', 'websit'], ['weve', 'tri', 'like', 'place', '10', 'time', 'think', 'done'], ['mistak'], ['complaint'], ['serious', 'good', 'pizza', 'im', 'expertconnisseur', 'topic'], ['waiter', 'jerk'], ['strike', '2', 'want', 'rush'], ['nicest', 'restaur', 'owner', 'ive', 'ever', 'come', 'across'], ['never', 'come'], ['love', 'biscuit'], ['servic', 'quick', 'friendli'], ['order', 'appet', 'took', '40', 'minut', 'pizza', 'anoth', '10', 'minut'], ['absolutley', 'fantast'], ['huge', 'awkward', '15lb', 'piec', 'cow', '34th', 'gristl', 'fat'], ['definit', 'come', 'back'], ['like', 'steiner', 'dark', 'feel', 'like', 'bar'], ['wow', 'spici', 'delici'], ['your', 'familiar', 'check'], ['ill', 'take', 'busi', 'dinner', 'dollar', 'elsewher'], ['id', 'love', 'go', 'back'], ['anyway', 'fs', 'restaur', 'wonder', 'breakfastlunch'], ['noth', 'special'], ['day', 'week', 'differ', 'deal', 'delici'], ['mention', 'combin', 'pear', 'almond', 'bacon', 'big', 'winner'], ['back'], ['sauc', 'tasteless'], ['food', 'delici', 'spici', 'enough', 'sure', 'ask', 'spicier', 'prefer', 'way'], ['ribey', 'steak', 'cook', 'perfectli', 'great', 'mesquit', 'flavor'], ['dont', 'think', 'well', 'go', 'back', 'anytim', 'soon'], ['food', 'gooodd'], ['far', 'sushi', 'connoisseur', 'definit', 'tell', 'differ', 'good', 'food', 'bad', 'food', 'certainli', 'bad', 'food'], ['insult'], ['last', '3', 'time', 'lunch', 'bad'], ['chicken', 'wing', 'contain', 'driest', 'chicken', 'meat', 'ever', 'eaten'], ['food', 'good', 'enjoy', 'everi', 'mouth', 'enjoy', 'relax', 'venu', 'coupl', 'small', 'famili', 'group', 'etc'], ['nargil', 'think', 'great'], ['best', 'tater', 'tot', 'southwest'], ['love', 'place'], ['definit', 'worth', '3', 'paid'], ['vanilla', 'ice', 'cream', 'creami', 'smooth', 'profiterol', 'choux', 'pastri', 'fresh', 'enough'], ['im', 'az', 'time', 'new', 'spot'], ['manag', 'worst'], ['insid', 'realli', 'quit', 'nice', 'clean'], ['food', 'outstand', 'price', 'reason'], ['dont', 'think', 'ill', 'run', 'back', 'carli', 'anytim', 'soon', 'food'], ['due', 'fact', 'took', '20', 'minut', 'acknowledg', 'anoth', '35', 'minut', 'get', 'foodand', 'kept', 'forget', 'thing'], ['love', 'margarita'], ['first', 'vega', 'buffet', 'disappoint'], ['good', 'though'], ['one', 'note', 'ventil', 'could', 'use', 'upgrad'], ['great', 'pork', 'sandwich'], ['dont', 'wast', 'time'], ['total', 'letdown', 'would', 'much', 'rather', 'go', 'camelback', 'flower', 'shop', 'cartel', 'coffe'], ['third', 'chees', 'friend', 'burger', 'cold'], ['enjoy', 'pizza', 'brunch'], ['steak', 'well', 'trim', 'also', 'perfectli', 'cook'], ['group', '70', 'claim', 'would', '40', 'handl', 'us', 'beauti'], ['love'], ['ask', 'bill', 'leav', 'without', 'eat', 'didnt', 'bring', 'either'], ['place', 'jewel', 'la', 'vega', 'exactli', 'ive', 'hope', 'find', 'nearli', 'ten', 'year', 'live'], ['seafood', 'limit', 'boil', 'shrimp', 'crab', 'leg', 'crab', 'leg', 'definit', 'tast', 'fresh'], ['select', 'food', 'best'], ['delici', 'absolut', 'back'], ['isnt', 'small', 'famili', 'restaur', 'fine', 'dine', 'establish'], ['toro', 'tartar', 'cavier', 'extraordinari', 'like', 'thinli', 'slice', 'wagyu', 'white', 'truffl'], ['dont', 'think', 'back', 'long', 'time'], ['attach', 'ga', 'station', 'rare', 'good', 'sign'], ['awesom'], ['back', 'mani', 'time', 'soon'], ['menu', 'much', 'good', 'stuff', 'could', 'decid'], ['wors', 'humili', 'worker', 'right', 'front', 'mebunch', 'horribl', 'name', 'call'], ['conclus', 'fill', 'meal'], ['daili', 'special', 'alway', 'hit', 'group'], ['tragedi', 'struck'], ['pancak', 'also', 'realli', 'good', 'pretti', 'larg'], ['first', 'crawfish', 'experi', 'delici'], ['monster', 'chicken', 'fri', 'steak', 'egg', 'time', 'favorit'], ['waitress', 'sweet', 'funni'], ['also', 'tast', 'mom', 'multigrain', 'pumpkin', 'pancak', 'pecan', 'butter', 'amaz', 'fluffi', 'delici'], ['id', 'rather', 'eat', 'airlin', 'food', 'serious'], ['cant', 'say', 'enough', 'good', 'thing', 'place'], ['ambianc', 'incred'], ['waitress', 'manag', 'friendli'], ['would', 'recommend', 'place'], ['overal', 'wasnt', 'impress', 'noca'], ['gyro', 'basic', 'lettuc'], ['terribl', 'servic'], ['thoroughli', 'disappoint'], ['dont', 'much', 'pasta', 'love', 'homemad', 'hand', 'made', 'pasta', 'thin', 'pizza'], ['give', 'tri', 'happi'], ['far', 'best', 'cheesecurd', 'ever'], ['reason', 'price', 'also'], ['everyth', 'perfect', 'night'], ['food', 'good', 'typic', 'bar', 'food'], ['drive', 'get'], ['first', 'glanc', 'love', 'bakeri', 'cafe', 'nice', 'ambianc', 'clean', 'friendli', 'staff'], ['anyway', 'think', 'go', 'back'], ['point', 'finger', 'item', 'menu', 'order', 'wont', 'disappoint'], ['oh', 'thing', 'beauti', 'restaur'], ['havent', 'gone', 'go'], ['greasi', 'unhealthi', 'meal'], ['first', 'time', 'might', 'last'], ['burger', 'amaz'], ['similarli', 'deliveri', 'man', 'say', 'word', 'apolog', 'food', '45', 'minut', 'late'], ['way', 'expens'], ['sure', 'order', 'dessert', 'even', 'need', 'pack', 'togo', 'tiramisu', 'cannoli', 'die'], ['first', 'time', 'cant', 'wait', 'next'], ['bartend', 'also', 'nice'], ['everyth', 'good', 'tasti'], ['place', 'two', 'thumb', 'upway'], ['best', 'place', 'vega', 'breakfast', 'check', 'sat', 'sun'], ['love', 'authent', 'mexican', 'food', 'want', 'whole', 'bunch', 'interest', 'yet', 'delici', 'meat', 'choos', 'need', 'tri', 'place'], ['terribl', 'manag'], ['excel', 'new', 'restaur', 'experienc', 'frenchman'], ['zero', 'star', 'would', 'give', 'zero', 'star'], ['great', 'steak', 'great', 'side', 'great', 'wine', 'amaz', 'dessert'], ['worst', 'martini', 'ever'], ['steak', 'shrimp', 'opinion', 'best', 'entre', 'gc'], ['opportun', 'today', 'sampl', 'amaz', 'pizza'], ['wait', 'thirti', 'minut', 'seat', 'although', '8', 'vacant', 'tabl', 'folk', 'wait'], ['yellowtail', 'carpaccio', 'melt', 'mouth', 'fresh'], ['wont', 'tri', 'go', 'back', 'even', 'empti'], ['im', 'go', 'eat', 'potato', 'found', 'stranger', 'hair'], ['spici', 'enough', 'perfect', 'actual'], ['last', 'night', 'second', 'time', 'dine', 'happi', 'decid', 'go', 'back'], ['even', 'hello', 'right'], ['dessert', 'bit', 'strang'], ['boyfriend', 'came', 'first', 'time', 'recent', 'trip', 'vega', 'could', 'pleas', 'qualiti', 'food', 'servic'], ['realli', 'recommend', 'place', 'go', 'wrong', 'donut', 'place'], ['nice', 'ambianc'], ['would', 'recommend', 'save', 'room'], ['guess', 'mayb', 'went', 'night', 'disgrac'], ['howev', 'recent', 'experi', 'particular', 'locat', 'good'], ['know', 'like', 'restaur', 'someth'], ['avoid', 'establish'], ['think', 'restaur', 'suffer', 'tri', 'hard', 'enough'], ['tapa', 'dish', 'delici'], ['heart', 'place'], ['salad', 'bland', 'vinegrett', 'babi', 'green', 'heart', 'palm'], ['two', 'felt', 'disgust'], ['good', 'time'], ['believ', 'place', 'great', 'stop', 'huge', 'belli', 'hanker', 'sushi'], ['gener', 'portion', 'great', 'tast'], ['never', 'go', 'back', 'place', 'never', 'ever', 'recommend', 'place', 'anyon'], ['server', 'went', 'back', 'forth', 'sever', 'time', 'even', 'much', 'help'], ['food', 'delici'], ['hour', 'serious'], ['consid', 'theft'], ['eew', 'locat', 'need', 'complet', 'overhaul'], ['recent', 'wit', 'poor', 'qualiti', 'manag', 'toward', 'guest', 'well'], ['wait', 'wait', 'wait'], ['also', 'came', 'back', 'check', 'us', 'regularli', 'excel', 'servic'], ['server', 'super', 'nice', 'check', 'us', 'mani', 'time'], ['pizza', 'tast', 'old', 'super', 'chewi', 'good', 'way'], ['swung', 'give', 'tri', 'deepli', 'disappoint'], ['servic', 'good', 'compani', 'better'], ['staff', 'also', 'friendli', 'effici'], ['servic', 'im', 'fan', 'quick', 'your', 'serv', 'nice', 'folk'], ['boy', 'sucker', 'dri'], ['rate'], ['look', 'authent', 'thai', 'food', 'go', 'els'], ['steak', '100', 'recommend'], ['pull', 'car', 'wait', 'anoth', '15', 'minut', 'acknowledg'], ['great', 'food', 'great', 'servic', 'clean', 'friendli', 'set'], ['assur', 'ill', 'back'], ['hate', 'thing', 'much', 'cheap', 'qualiti', 'black', 'oliv'], ['breakfast', 'perpar', 'great', 'beauti', 'present', '3', 'giant', 'slice', 'toast', 'lightli', 'dust', 'powder', 'sugar'], ['kid', 'play', 'area', 'nasti'], ['great', 'place', 'fo', 'take', 'eat'], ['waitress', 'friendli', 'happi', 'accomod', 'veganveggi', 'option'], ['omg', 'felt', 'like', 'never', 'eaten', 'thai', 'food', 'dish'], ['extrem', 'crumbi', 'pretti', 'tasteless'], ['pale', 'color', 'instead', 'nice', 'char', 'flavor'], ['crouton', 'also', 'tast', 'homemad', 'extra', 'plu'], ['got', 'home', 'see', 'driest', 'damn', 'wing', 'ever'], ['itll', 'regular', 'stop', 'trip', 'phoenix'], ['realli', 'enjoy', 'crema', 'café', 'expand', 'even', 'told', 'friend', 'best', 'breakfast'], ['good', 'money'], ['miss', 'wish', 'one', 'philadelphia'], ['got', 'sit', 'fairli', 'fast', 'end', 'wait', '40', 'minut', 'place', 'order', 'anoth', '30', 'minut', 'food', 'arriv'], ['also', 'best', 'chees', 'crisp', 'town'], ['good', 'valu', 'great', 'food', 'great', 'servic'], ['couldnt', 'ask', 'satisfi', 'meal'], ['food', 'good'], ['awesom'], ['want', 'leav'], ['made', 'drive', 'way', 'north', 'scottsdal', 'one', 'bit', 'disappoint'], ['eat'], ['owner', 'realli', 'realli', 'need', 'quit', 'soooooo', 'cheap', 'let', 'wrap', 'freak', 'sandwich', 'two', 'paper', 'one'], ['check', 'place', 'coupl', 'year', 'ago', 'impress'], ['chicken', 'got', 'definit', 'reheat', 'ok', 'wedg', 'cold', 'soggi'], ['sorri', 'get', 'food', 'anytim', 'soon'], ['absolut', 'must', 'visit'], ['cow', 'tongu', 'cheek', 'taco', 'amaz'], ['friend', 'like', 'bloodi', 'mari'], ['despit', 'hard', 'rate', 'busi', 'actual', 'rare', 'give', '1', 'star'], ['realli', 'want', 'make', 'experi', 'good', 'one'], ['return'], ['chicken', 'pho', 'tast', 'bland'], ['disappoint'], ['grill', 'chicken', 'tender', 'yellow', 'saffron', 'season'], ['drive', 'thru', 'mean', 'want', 'wait', 'around', 'half', 'hour', 'food', 'somehow', 'end', 'go', 'make', 'us', 'wait', 'wait'], ['pretti', 'awesom', 'place'], ['ambienc', 'perfect'], ['best', 'luck', 'rude', 'noncustom', 'servic', 'focus', 'new', 'manag'], ['grandmoth', 'make', 'roast', 'chicken', 'better', 'one'], ['ask', 'multipl', 'time', 'wine', 'list', 'time', 'ignor', 'went', 'hostess', 'got', 'one'], ['staff', 'alway', 'super', 'friendli', 'help', 'especi', 'cool', 'bring', 'two', 'small', 'boy', 'babi'], ['four', 'star', 'food', 'guy', 'blue', 'shirt', 'great', 'vibe', 'still', 'let', 'us', 'eat'], ['roast', 'beef', 'sandwich', 'tast', 'realli', 'good'], ['even', 'drastic', 'sick'], ['highqual', 'chicken', 'chicken', 'caesar', 'salad'], ['order', 'burger', 'rare', 'came', 'well', 'done'], ['promptli', 'greet', 'seat'], ['tri', 'go', 'lunch', 'madhous'], ['proven', 'dead', 'wrong', 'sushi', 'bar', 'qualiti', 'great', 'servic', 'fast', 'food', 'impecc'], ['wait', 'hour', 'seat', 'greatest', 'mood'], ['good', 'joint'], ['macaron', 'insan', 'good'], ['im', 'eat'], ['waiter', 'attent', 'friendli', 'inform'], ['mayb', 'werent', 'cold', 'would', 'somewhat', 'edibl'], ['place', 'lot', 'promis', 'fail', 'deliv'], ['bad', 'experi'], ['mistak'], ['food', 'averag', 'best'], ['great', 'food'], ['wont', 'go', 'back', 'anytim', 'soon'], ['disappoint', 'order', '35', 'big', 'bay', 'plater'], ['great', 'place', 'relax', 'awesom', 'burger', 'beer'], ['perfect', 'sitdown', 'famili', 'meal', 'get', 'togeth', 'friend'], ['much', 'flavor', 'poorli', 'construct'], ['patio', 'seat', 'comfort'], ['fri', 'rice', 'dri', 'well'], ['hand', 'favorit', 'italian', 'restaur'], ['scream', 'legit', 'booksomethat', 'also', 'pretti', 'rare', 'vega'], ['fun', 'experi'], ['atmospher', 'great', 'love', 'duo', 'violinist', 'play', 'song', 'request'], ['person', 'love', 'hummu', 'pita', 'baklava', 'falafel', 'baba', 'ganoush', 'amaz', 'eggplant'], ['conveni', 'sinc', 'stay', 'mgm'], ['owner', 'super', 'friendli', 'staff', 'courteou'], ['great'], ['eclect', 'select'], ['sweet', 'potato', 'tot', 'good', 'onion', 'ring', 'perfect', 'close'], ['staff', 'attent'], ['chef', 'gener', 'time', 'even', 'came', 'around', 'twice', 'take', 'pictur'], ['owner', 'use', 'work', 'nobu', 'place', 'realli', 'similar', 'half', 'price'], ['googl', 'mediocr', 'imagin', 'smashburg', 'pop'], ['dont', 'go'], ['promis', 'wont', 'disappoint'], ['sushi', 'lover', 'avoid', 'place', 'mean'], ['great', 'doubl', 'cheeseburg'], ['awesom', 'servic', 'food'], ['fantast', 'neighborhood', 'gem'], ['cant', 'wait', 'go', 'back'], ['plantain', 'worst', 'ive', 'ever', 'tast'], ['great', 'place', 'highli', 'recommend'], ['servic', 'slow', 'attent'], ['gave', '5', 'star', 'im', 'give', '5', 'star'], ['staff', 'spend', 'time', 'talk'], ['dessert', 'panna', 'cotta', 'amaz'], ['good', 'food', 'great', 'atmosphere1'], ['damn', 'good', 'steak'], ['total', 'brunch', 'fail'], ['price', 'reason', 'flavor', 'spot', 'sauc', 'home', 'made', 'slaw', 'drench', 'mayo'], ['decor', 'nice', 'piano', 'music', 'soundtrack', 'pleasant'], ['steak', 'amazingrg', 'fillet', 'relleno', 'best', 'seafood', 'plate', 'ever'], ['good', 'food', 'good', 'servic'], ['absolut', 'amaz'], ['probabl', 'wont', 'back', 'honest'], ['definit', 'back'], ['sergeant', 'pepper', 'beef', 'sandwich', 'auju', 'sauc', 'excel', 'sandwich', 'well'], ['hawaiian', 'breez', 'mango', 'magic', 'pineappl', 'delight', 'smoothi', 'ive', 'tri', 'far', 'theyr', 'good'], ['went', 'lunch', 'servic', 'slow'], ['much', 'say', 'place', 'walk', 'expect', 'amaz', 'quickli', 'disappoint'], ['mortifi'], ['needless', 'say', 'never', 'back'], ['anyway', 'food', 'definit', 'fill', 'price', 'pay', 'expect'], ['chip', 'came', 'drip', 'greas', 'mostli', 'edibl'], ['wasnt', 'realli', 'impress', 'strip', 'steak'], ['go', 'sinc', '2007', 'everi', 'meal', 'awesom'], ['server', 'nice', 'attent', 'serv', 'staff'], ['cashier', 'friendli', 'even', 'brought', 'food'], ['work', 'hospit', 'industri', 'paradis', 'valley', 'refrain', 'recommend', 'cibo', 'longer'], ['atmospher', 'fun'], ['would', 'recommend', 'other'], ['servic', 'quick', 'even', 'go', 'order', 'like', 'like'], ['mean', 'realli', 'get', 'famou', 'fish', 'chip', 'terribl'], ['said', 'mouth', 'belli', 'still', 'quit', 'pleas'], ['thing'], ['2', 'thumb'], ['read', 'pleas', 'dont', 'go'], ['love', 'grill', 'pizza', 'remind', 'legit', 'italian', 'pizza'], ['pro', 'larg', 'seat', 'area', 'nice', 'bar', 'area', 'great', 'simpl', 'drink', 'menu', 'best', 'brick', 'oven', 'pizza', 'homemad', 'dough'], ['realli', 'nice', 'atmospher'], ['tonight', 'elk', 'filet', 'specialand', 'suck'], ['one', 'bite', 'hook'], ['order', 'old', 'classic', 'new', 'dish', 'go', 'time', 'sore', 'disappoint', 'everyth'], ['cute', 'quaint', 'simpl', 'honest'], ['chicken', 'delici', 'season', 'perfect', 'fri', 'outsid', 'moist', 'chicken', 'insid'], ['food', 'great', 'alway', 'compliment', 'chef'], ['special', 'thank', 'dylan', 'recommend', 'order', 'yummi', 'tummi'], ['awesom', 'select', 'beer'], ['great', 'food', 'awesom', 'servic'], ['one', 'nice', 'thing', 'ad', 'gratuiti', 'bill', 'sinc', 'parti', 'larger', '6', '8', 'didnt', 'expect', 'tip'], ['fli', 'appl', 'juic', 'fli'], ['han', 'nan', 'chicken', 'also', 'tasti'], ['servic', 'thought', 'good'], ['food', 'bare', 'lukewarm', 'must', 'sit', 'wait', 'server', 'bring', 'us'], ['ryan', 'bar', 'definit', 'one', 'edinburgh', 'establish', 'wont', 'revisit'], ['nicest', 'chines', 'restaur', 'ive'], ['overal', 'like', 'food', 'servic'], ['also', 'serv', 'indian', 'naan', 'bread', 'hummu', 'spici', 'pine', 'nut', 'sauc', 'world'], ['probabl', 'never', 'come', 'back', 'wouldnt', 'recommend'], ['friend', 'pasta', 'also', 'bad', 'bare', 'touch'], ['tri', 'airport', 'experi', 'tasti', 'food', 'speedi', 'friendli', 'servic'], ['love', 'decor', 'chines', 'calligraphi', 'wall', 'paper'], ['never', 'anyth', 'complain'], ['restaur', 'clean', 'famili', 'restaur', 'feel'], ['way', 'fri'], ['im', 'sure', 'long', 'stood', 'long', 'enough', 'begin', 'feel', 'awkwardli', 'place'], ['open', 'sandwich', 'impress', 'good', 'way'], ['back'], ['warm', 'feel', 'servic', 'felt', 'like', 'guest', 'special', 'treat'], ['extens', 'menu', 'provid', 'lot', 'option', 'breakfast'], ['alway', 'order', 'vegetarian', 'menu', 'dinner', 'wide', 'array', 'option', 'choos'], ['watch', 'price', 'inflat', 'portion', 'get', 'smaller', 'manag', 'attitud', 'grow', 'rapidli'], ['wonder', 'lil', 'tapa', 'ambienc', 'made', 'feel', 'warm', 'fuzzi', 'insid'], ['got', 'enjoy', 'seafood', 'salad', 'fabul', 'vinegrett'], ['wonton', 'thin', 'thick', 'chewi', 'almost', 'melt', 'mouth'], ['level', '5', 'spici', 'perfect', 'spice', 'didnt', 'overwhelm', 'soup'], ['sat', 'right', 'time', 'server', 'get', 'go', 'fantast'], ['main', 'thing', 'didnt', 'enjoy', 'crowd', 'older', 'crowd', 'around', 'mid', '30'], ['im', 'side', 'town', 'definit', 'spot', 'ill', 'hit'], ['wait', '30', 'minut', 'get', 'drink', 'longer', 'get', '2', 'arepa'], ['great', 'place', 'eat'], ['jalapeno', 'bacon', 'soooo', 'good'], ['servic', 'poor', 'that', 'nice'], ['food', 'good', 'servic', 'good', 'price', 'good'], ['place', 'clean', 'food', 'oh', 'stale'], ['chicken', 'dish', 'ok', 'beef', 'like', 'shoe', 'leather'], ['servic', 'beyond', 'bad'], ['im', 'happi'], ['tast', 'like', 'dirt'], ['one', 'place', 'phoenix', 'would', 'defin', 'go', 'back'], ['block', 'amaz'], ['close', 'hous', 'lowkey', 'nonfanc', 'afford', 'price', 'good', 'food'], ['hot', 'sour', 'egg', 'flower', 'soup', 'absolut', '5', 'star'], ['sashimi', 'poor', 'qualiti', 'soggi', 'tasteless'], ['great', 'time', 'famili', 'dinner', 'sunday', 'night'], ['food', 'tasti', 'say', 'real', 'tradit', 'hunan', 'style'], ['bother', 'slow', 'servic'], ['flair', 'bartend', 'absolut', 'amaz'], ['frozen', 'margarita', 'way', 'sugari', 'tast'], ['good', 'order', 'twice'], ['nutshel', '1', 'restaraunt', 'smell', 'like', 'combin', 'dirti', 'fish', 'market', 'sewer'], ['girlfriend', 'veal', 'bad'], ['unfortun', 'good'], ['pretti', 'satifi', 'experi'], ['join', 'club', 'get', 'awesom', 'offer', 'via', 'email'], ['perfect', 'someon', 'like', 'beer', 'ice', 'cold', 'case', 'even', 'colder'], ['bland', 'flavorless', 'good', 'way', 'describ', 'bare', 'tepid', 'meat'], ['chain', 'im', 'fan', 'beat', 'place', 'easili'], ['nacho', 'must'], ['come', 'back'], ['dont', 'mani', 'word', 'say', 'place', 'everyth', 'pretti', 'well'], ['staff', 'super', 'nice', 'quick', 'even', 'crazi', 'crowd', 'downtown', 'juri', 'lawyer', 'court', 'staff'], ['great', 'atmospher', 'friendli', 'fast', 'servic'], ['receiv', 'pita', 'huge', 'lot', 'meat', 'thumb'], ['food', 'arriv', 'meh'], ['pay', '785', 'hot', 'dog', 'fri', 'look', 'like', 'came', 'kid', 'meal', 'wienerschnitzel', 'idea', 'good', 'meal'], ['classic', 'main', 'lobster', 'roll', 'fantast'], ['brother', 'law', 'work', 'mall', 'ate', 'day', 'guess', 'sick', 'night'], ['good', 'go', 'review', 'place', 'twice', 'herea', 'tribut', 'place', 'tribut', 'event', 'held', 'last', 'night'], ['chip', 'salsa', 'realli', 'good', 'salsa', 'fresh'], ['place', 'great'], ['mediocr', 'food'], ['get', 'insid', 'youll', 'impress', 'place'], ['im', 'super', 'pissd'], ['servic', 'super', 'friendli'], ['sad', 'littl', 'veget', 'overcook'], ['place', 'nice', 'surpris'], ['goldencrispi', 'delici'], ['high', 'hope', 'place', 'sinc', 'burger', 'cook', 'charcoal', 'grill', 'unfortun', 'tast', 'fell', 'flat', 'way', 'flat'], ['could', 'eat', 'bruschetta', 'day', 'devin'], ['singl', 'employe', 'came', 'see', 'ok', 'even', 'need', 'water', 'refil', 'final', 'serv', 'us', 'food'], ['lastli', 'mozzarella', 'stick', 'best', 'thing', 'order'], ['first', 'time', 'ever', 'came', 'amaz', 'experi', 'still', 'tell', 'peopl', 'awesom', 'duck'], ['server', 'neglig', 'need', 'made', 'us', 'feel', 'unwelcom', 'would', 'suggest', 'place'], ['servic', 'terribl', 'though'], ['place', 'overpr', 'consist', 'boba', 'realli', 'overpr'], ['pack'], ['love', 'place'], ['say', 'dessert', 'yummi'], ['food', 'terribl'], ['season', 'fruit', 'fresh', 'white', 'peach', 'pure'], ['kept', 'get', 'wors', 'wors', 'im', 'offici', 'done'], ['place', 'honestli', 'blown'], ['definit', 'would', 'eat'], ['wast', 'money'], ['love', 'put', 'food', 'nice', 'plastic', 'contain', 'oppos', 'cram', 'littl', 'paper', 'takeout', 'box'], ['crêpe', 'delic', 'thin', 'moist'], ['aw', 'servic'], ['wont', 'ever', 'go'], ['food', 'qualiti', 'horribl'], ['price', 'think', 'place', 'would', 'much', 'rather', 'gone'], ['servic', 'fair', 'best'], ['love', 'sushi', 'found', 'kabuki', 'overpr', 'overhip', 'underservic'], ['favor', 'stay', 'away', 'dish'], ['poor', 'servic'], ['one', 'tabl', 'thought', 'food', 'averag', 'worth', 'wait'], ['best', 'servic', 'food', 'ever', 'maria', 'server', 'good', 'friendli', 'made', 'day'], ['excel'], ['paid', 'bill', 'tip', 'felt', 'server', 'terribl', 'job'], ['lunch', 'great', 'experi'], ['never', 'bland', 'food', 'surpris', 'consid', 'articl', 'read', 'focus', 'much', 'spice', 'flavor'], ['food', 'way', 'overpr', 'portion', 'fuck', 'small'], ['recent', 'tri', 'caballero', 'back', 'everi', 'week', 'sinc'], ['40', 'buck', 'head', 'realli', 'expect', 'better', 'food'], ['food', 'came', 'good', 'pace'], ['ate', 'twice', 'last', 'visit', 'especi', 'enjoy', 'salmon', 'salad'], ['wont', 'back'], ['could', 'believ', 'dirti', 'oyster'], ['place', 'deserv', 'star'], ['would', 'recommend', 'place'], ['fact', 'im', 'go', 'round', '4', 'star', 'awesom'], ['disbelief', 'dish', 'qualifi', 'worst', 'version', 'food', 'ever', 'tast'], ['bad', 'day', 'low', 'toler', 'rude', 'custom', 'servic', 'peopl', 'job', 'nice', 'polit', 'wash', 'dish', 'otherwis'], ['potato', 'great', 'biscuit'], ['probabl', 'would', 'go'], ['flavor', 'perfect', 'amount', 'heat'], ['price', 'reason', 'servic', 'great'], ['wife', 'hate', 'meal', 'coconut', 'shrimp', 'friend', 'realli', 'enjoy', 'meal', 'either'], ['fella', 'got', 'huevo', 'ranchero', 'didnt', 'look', 'appeal'], ['went', 'happi', 'hour', 'great', 'list', 'wine'], ['may', 'say', 'buffet', 'pricey', 'think', 'get', 'pay', 'place', 'get', 'quit', 'lot'], ['probabl', 'wont', 'come', 'back'], ['worst', 'foodservic', 'ive'], ['place', 'pretti', 'good', 'nice', 'littl', 'vibe', 'restaur'], ['talk', 'great', 'custom', 'servic', 'cours', 'back'], ['hot', 'dish', 'hot', 'cold', 'dish', 'close', 'room', 'tempi', 'watch', 'staff', 'prepar', 'food', 'bare', 'hand', 'gloveseveryth', 'deep', 'fri', 'oil'], ['love', 'fri', 'bean'], ['alway', 'pleasur', 'deal'], ['plethora', 'salad', 'sandwich', 'everyth', 'ive', 'tri', 'get', 'seal', 'approv'], ['place', 'awesom', 'want', 'someth', 'light', 'healthi', 'summer'], ['sushi', 'strip', 'place', 'go'], ['servic', 'great', 'even', 'manag', 'came', 'help', 'tabl'], ['feel', 'dine', 'room', 'colleg', 'cook', 'cours', 'high', 'class', 'dine', 'servic', 'slow', 'best'], ['start', 'review', 'two', 'star', 'im', 'edit', 'give', 'one'], ['worst', 'sushi', 'ever', 'eat', 'besid', 'costco'], ['excel', 'restaur', 'highlight', 'great', 'servic', 'uniqu', 'menu', 'beauti', 'set'], ['boyfriend', 'sat', 'bar', 'complet', 'delight', 'experi'], ['weird', 'vibe', 'owner'], ['hardli', 'meat'], ['ive', 'better', 'bagel', 'groceri', 'store'], ['go', 'place', 'gyro'], ['love', 'ownerchef', 'one', 'authent', 'japanes', 'cool', 'dude'], ['burger', 'arent', 'good', 'pizza', 'use', 'amaz', 'doughi', 'flavorless'], ['found', 'six', 'inch', 'long', 'piec', 'wire', 'salsa'], ['servic', 'terribl', 'food', 'mediocr'], ['defin', 'enjoy'], ['order', 'albondiga', 'soup', 'warm', 'tast', 'like', 'tomato', 'soup', 'frozen', 'meatbal'], ['three', 'differ', 'occas', 'ask', 'well', 'done', 'medium', 'well', 'three', 'time', 'got', 'bloodiest', 'piec', 'meat', 'plate'], ['two', 'bite', 'refus', 'eat', 'anymor'], ['servic', 'extrem', 'slow'], ['20', 'minut', 'wait', 'got', 'tabl'], ['serious', 'killer', 'hot', 'chai', 'latt'], ['allergi', 'warn', 'menu', 'waitress', 'absolut', 'clue', 'meal', 'contain', 'peanut'], ['boyfriend', 'tri', 'mediterranean', 'chicken', 'salad', 'fell', 'love'], ['rotat', 'beer', 'tap', 'also', 'highlight', 'place'], ['price', 'bit', 'concern', 'mellow', 'mushroom'], ['worst', 'thai', 'ever'], ['stay', 'vega', 'must', 'get', 'breakfast', 'least'], ['want', 'first', 'say', 'server', 'great', 'perfect', 'servic'], ['pizza', 'select', 'good'], ['strawberri', 'tea', 'good'], ['highli', 'unprofession', 'rude', 'loyal', 'patron'], ['overal', 'great', 'experi'], ['spend', 'money', 'elsewher'], ['regular', 'toast', 'bread', 'equal', 'satisfi', 'occasion', 'pat', 'butter', 'mmmm'], ['buffet', 'bellagio', 'far', 'anticip'], ['drink', 'weak', 'peopl'], ['order', 'correct'], ['also', 'feel', 'like', 'chip', 'bought', 'made', 'hous'], ['disappoint', 'dinner', 'went', 'elsewher', 'dessert'], ['chip', 'sal', 'amaz'], ['wont', 'return'], ['new', 'fav', 'vega', 'buffet', 'spot'], ['serious', 'cannot', 'believ', 'owner', 'mani', 'unexperienc', 'employe', 'run', 'around', 'like', 'chicken', 'head', 'cut'], ['sad'], ['felt', 'insult', 'disrespect', 'could', 'talk', 'judg', 'anoth', 'human', 'like'], ['call', 'steakhous', 'cant', 'properli', 'cook', 'steak', 'dont', 'understand'], ['im', 'impress', 'concept', 'food'], ['thing', 'wasnt', 'crazi', 'guacamol', 'dont', 'like', 'puré'], ['realli', 'noth', 'postino', 'hope', 'experi', 'better'], ['got', 'food', 'poison', 'buffet'], ['brought', 'fresh', 'batch', 'fri', 'think', 'yay', 'someth', 'warm'], ['hilari', 'yummi', 'christma', 'eve', 'dinner', 'rememb', 'biggest', 'fail', 'entir', 'trip', 'us'], ['needless', 'say', 'wont', 'go', 'back', 'anytim', 'soon'], ['place', 'disgust'], ['everi', 'time', 'eat', 'see', 'care', 'teamwork', 'profession', 'degre'], ['ri', 'style', 'calamari', 'joke'], ['howev', 'much', 'garlic', 'fondu', 'bare', 'edibl'], ['could', 'bare', 'stomach', 'meal', 'didnt', 'complain', 'busi', 'lunch'], ['bad', 'lost', 'heart', 'finish'], ['also', 'took', 'forev', 'bring', 'us', 'check', 'ask'], ['arent', 'one', 'make', 'scene', 'restaur', 'dont', 'get', 'itdefinit', 'lost', 'love', 'one'], ['disappoint', 'experi'], ['food', 'par', 'denni', 'say', 'good'], ['want', 'wait', 'mediocr', 'food', 'downright', 'terribl', 'servic', 'place'], ['waaaaaayyyyyyyyyi', 'rate', 'say'], ['wont', 'go', 'back'], ['place', 'fairli', 'clean', 'food', 'simpli', 'wasnt', 'worth'], ['place', 'lack', 'style'], ['sangria', 'half', 'glass', 'wine', 'full', '12', 'ridicul'], ['dont', 'bother', 'come'], ['meat', 'pretti', 'dri', 'slice', 'brisket', 'pull', 'pork'], ['build', 'seem', 'pretti', 'neat', 'bathroom', 'pretti', 'trippi', 'wouldnt', 'eat'], ['equal', 'aw'], ['probabl', 'hurri', 'go', 'back'], ['slow', 'seat', 'even', 'reserv'], ['good', 'stretch', 'imagin'], ['cashew', 'cream', 'sauc', 'bland', 'veget', 'undercook'], ['chipolt', 'ranch', 'dip', 'saus', 'tasteless', 'seem', 'thin', 'water', 'heat'], ['bit', 'sweet', 'realli', 'spici', 'enough', 'lack', 'flavor'], ['disappoint'], ['place', 'horribl', 'way', 'overpr'], ['mayb', 'vegetarian', 'fare', 'ive', 'twice', 'thought', 'averag', 'best'], ['wasnt', 'busi', 'know'], ['tabl', 'outsid', 'also', 'dirti', 'lot', 'time', 'worker', 'alway', 'friendli', 'help', 'menu'], ['ambianc', 'feel', 'like', 'buffet', 'set', 'douchey', 'indoor', 'garden', 'tea', 'biscuit'], ['con', 'spotti', 'servic'], ['fri', 'hot', 'neither', 'burger'], ['came', 'back', 'cold'], ['food', 'came', 'disappoint', 'ensu'], ['real', 'disappoint', 'waiter'], ['husband', 'said', 'rude', 'even', 'apolog', 'bad', 'food', 'anyth'], ['reason', 'eat', 'would', 'fill', 'night', 'bing', 'drink', 'get', 'carb', 'stomach'], ['insult', 'profound', 'deuchebaggeri', 'go', 'outsid', 'smoke', 'break', 'serv', 'solidifi'], ['someon', 'order', 'two', 'taco', 'dont', 'think', 'may', 'part', 'custom', 'servic', 'ask', 'combo', 'ala', 'cart'], ['quit', 'disappoint', 'although', 'blame', 'need', 'place', 'door'], ['rave', 'review', 'couldnt', 'wait', 'eat', 'herewhat', 'disappoint'], ['del', 'taco', 'pretti', 'nasti', 'avoid', 'possibl'], ['hard', 'make', 'decent', 'hamburg'], ['dont', 'like'], ['hell', 'go', 'back'], ['weve', 'gotten', 'much', 'better', 'servic', 'pizza', 'place', 'next', 'door', 'servic', 'receiv', 'restaur'], ['dont', 'know', 'big', 'deal', 'place', 'wont', 'back', 'yaall'], ['immedi', 'said', 'want', 'talk', 'manag', 'want', 'talk', 'guy', 'shot', 'firebal', 'behind', 'bar'], ['ambianc', 'isnt', 'much', 'better'], ['unfortun', 'set', 'us', 'disapppoint', 'entre'], ['food', 'wasnt', 'good'], ['server', 'suck', 'wait', 'correct', 'server', 'heimer', 'suck'], ['happen', 'next', 'prettyoff', 'put'], ['bad', 'caus', 'know', 'famili', 'own', 'realli', 'want', 'like', 'place'], ['overpr', 'get'], ['vomit', 'bathroom', 'mid', 'lunch'], ['kept', 'look', 'time', 'soon', 'becom', '35', 'minut', 'yet', 'still', 'food'], ['place', 'eat', 'circumst', 'would', 'ever', 'return', 'top', 'list'], ['start', 'tuna', 'sashimi', 'brownish', 'color', 'obvious', 'wasnt', 'fresh'], ['food', 'averag'], ['sure', 'beat', 'nacho', 'movi', 'would', 'expect', 'littl', 'bit', 'come', 'restaur'], ['ha', 'long', 'bay', 'bit', 'flop'], ['problem', 'charg', '1199', 'sandwich', 'bigger', 'subway', 'sub', 'offer', 'better', 'amount', 'veget'], ['shrimp', 'unwrap', 'live', '12', 'mile', 'brushfir', 'liter', 'ice', 'cold'], ['lack', 'flavor', 'seem', 'undercook', 'dri'], ['realli', 'impress', 'place', 'hasnt', 'close'], ['would', 'avoid', 'place', 'stay', 'mirag'], ['refri', 'bean', 'came', 'meal', 'dri', 'crusti', 'food', 'bland'], ['spend', 'money', 'time', 'place', 'els'], ['ladi', 'tabl', 'next', 'us', 'found', 'live', 'green', 'caterpillar', 'salad'], ['present', 'food', 'aw'], ['cant', 'tell', 'disappoint'], ['think', 'food', 'flavor', 'textur', 'lack'], ['appetit', 'instantli', 'gone'], ['overal', 'impress', 'would', 'go', 'back'], ['whole', 'experi', 'underwhelm', 'think', 'well', 'go', 'ninja', 'sushi', 'next', 'time'], ['hadnt', 'wast', 'enough', 'life', 'pour', 'salt', 'wound', 'draw', 'time', 'took', 'bring', 'check']]\n"
     ]
    }
   ],
   "source": [
    "print(corpusdata)"
   ]
  },
  {
   "cell_type": "code",
   "execution_count": 27,
   "metadata": {},
   "outputs": [
    {
     "data": {
      "text/plain": [
       "1000"
      ]
     },
     "execution_count": 27,
     "metadata": {},
     "output_type": "execute_result"
    }
   ],
   "source": [
    "len(corpusdata)"
   ]
  },
  {
   "cell_type": "code",
   "execution_count": 28,
   "metadata": {},
   "outputs": [
    {
     "name": "stdout",
     "output_type": "stream",
     "text": [
      "good money\n"
     ]
    }
   ],
   "source": [
    "print(corpusdata[599])"
   ]
  },
  {
   "cell_type": "code",
   "execution_count": 19,
   "metadata": {},
   "outputs": [
    {
     "data": {
      "text/plain": [
       "0                               Wow... Loved this place.\n",
       "1                                     Crust is not good.\n",
       "2              Not tasty and the texture was just nasty.\n",
       "3      Stopped by during the late May bank holiday of...\n",
       "4      The selection on the menu was great and so wer...\n",
       "                             ...                        \n",
       "995    I think food should have flavor and texture an...\n",
       "996                             Appetite instantly gone.\n",
       "997    Overall I was not impressed and would not go b...\n",
       "998    The whole experience was underwhelming, and I ...\n",
       "999    Then, as if I hadn't wasted enough of my life ...\n",
       "Name: Review, Length: 1000, dtype: object"
      ]
     },
     "execution_count": 19,
     "metadata": {},
     "output_type": "execute_result"
    }
   ],
   "source": [
    "datatsv[\"Review\"]"
   ]
  },
  {
   "cell_type": "code",
   "execution_count": 62,
   "metadata": {},
   "outputs": [
    {
     "name": "stdout",
     "output_type": "stream",
     "text": [
      "1638\n"
     ]
    }
   ],
   "source": [
    "f##rom enum import unique\n",
    "##from collections import Counter\n",
    "\n",
    "##count=Counter(review)\n",
    "\n",
    "##uniq=set(corpusdata)\n",
    "freq={}\n",
    "for i in corpusdata:\n",
    "    for word in i:\n",
    "        if word in freq.keys():\n",
    "            freq[word]+=1\n",
    "        else:\n",
    "            freq[word]=1\n",
    "            \n",
    "print(len(freq))\n",
    "        "
   ]
  },
  {
   "cell_type": "code",
   "execution_count": 63,
   "metadata": {},
   "outputs": [
    {
     "name": "stdout",
     "output_type": "stream",
     "text": [
      "{'wow': 3, 'love': 33, 'place': 112, 'crust': 2, 'good': 95, 'tasti': 11, 'textur': 3, 'nasti': 3, 'stop': 4, 'late': 2, 'may': 5, 'bank': 1, 'holiday': 1, 'rick': 1, 'steve': 1, 'recommend': 18, 'select': 12, 'menu': 16, 'great': 70, 'price': 21, 'get': 28, 'angri': 1, 'want': 17, 'damn': 4, 'pho': 6, 'honeslti': 1, 'didnt': 13, 'tast': 22, 'fresh': 14, 'potato': 9, 'like': 51, 'rubber': 1, 'could': 16, 'tell': 6, 'made': 17, 'ahead': 1, 'time': 55, 'kept': 5, 'warmer': 1, 'fri': 16, 'touch': 3, 'servic': 84, 'prompt': 1, 'would': 28, 'go': 61, 'back': 61, 'cashier': 2, 'care': 4, 'ever': 28, 'say': 18, 'still': 11, 'end': 4, 'wayyy': 1, 'overpr': 8, 'tri': 17, 'cape': 1, 'cod': 1, 'ravoli': 1, 'chicken': 18, 'cranberrymmmm': 1, 'disgust': 4, 'pretti': 19, 'sure': 8, 'human': 2, 'hair': 2, 'shock': 1, 'sign': 2, 'indic': 1, 'cash': 1, 'highli': 4, 'waitress': 9, 'littl': 10, 'slow': 11, 'worth': 10, 'let': 4, 'alon': 1, 'vega': 21, 'burritto': 1, 'blah': 1, 'food': 125, 'amaz': 23, 'also': 27, 'cute': 2, 'less': 1, 'interior': 1, 'beauti': 5, 'perform': 1, 'that': 2, 'rightth': 1, 'red': 2, 'velvet': 1, 'cakeohhh': 1, 'stuff': 2, 'never': 26, 'brought': 3, 'salad': 17, 'ask': 10, 'hole': 1, 'wall': 4, 'mexican': 2, 'street': 1, 'taco': 6, 'friendli': 26, 'staff': 19, 'took': 8, 'hour': 8, '4': 3, 'tabl': 14, 'restaur': 28, 'luke': 1, 'warm': 6, 'sever': 4, 'run': 4, 'around': 8, 'total': 6, 'overwhelm': 3, 'worst': 14, 'salmon': 4, 'sashimi': 3, 'combo': 2, 'burger': 16, 'beer': 9, '23': 1, 'decent': 2, 'deal': 9, 'final': 3, 'blow': 2, 'found': 7, 'accid': 1, 'happier': 1, 'seem': 4, 'quick': 5, 'grab': 1, 'bite': 4, 'familiar': 2, 'pub': 1, 'favor': 2, 'look': 9, 'elsewher': 4, 'overal': 8, 'lot': 9, 'redeem': 1, 'qualiti': 13, 'inexpens': 2, 'ampl': 1, 'portion': 7, 'poor': 6, 'waiter': 7, 'feel': 15, 'stupid': 1, 'everi': 9, 'came': 20, 'first': 17, 'visit': 5, 'hiro': 1, 'delight': 5, 'suck': 9, 'shrimp': 6, 'tender': 7, 'moist': 3, 'enough': 12, 'drag': 1, 'establish': 4, 'hard': 6, 'judg': 3, 'whether': 1, 'side': 10, 'gross': 4, 'melt': 4, 'styrofoam': 1, 'eat': 26, 'fear': 1, 'sick': 5, 'posit': 1, 'note': 2, 'server': 18, 'attent': 8, 'provid': 3, 'frozen': 3, 'puck': 1, 'peopl': 9, 'behind': 2, 'regist': 1, 'thing': 13, 'prime': 1, 'rib': 1, 'dessert': 8, 'section': 1, 'bad': 18, 'gener': 4, 'beef': 5, 'cook': 10, 'right': 8, 'sandwich': 10, 'firehous': 1, 'greek': 3, 'dress': 4, 'pita': 3, 'hummu': 3, 'refresh': 1, 'order': 28, 'duck': 3, 'rare': 6, 'pink': 1, 'insid': 7, 'nice': 25, 'char': 2, 'outsid': 5, 'us': 19, 'realiz': 2, 'husband': 4, 'left': 6, 'sunglass': 1, 'chow': 1, 'mein': 1, 'horribl': 6, 'attitud': 2, 'toward': 2, 'custom': 8, 'talk': 6, 'one': 27, 'dont': 28, 'enjoy': 12, 'huge': 5, 'itfriendli': 1, 'wonder': 7, 'imagin': 4, 'heart': 5, 'attack': 2, 'grill': 4, 'downtown': 2, 'absolut': 9, 'flatlin': 1, 'excus': 2, 'much': 18, 'seafood': 5, '5': 8, 'string': 1, 'pasta': 6, 'bottom': 1, 'amount': 3, 'sauc': 11, 'power': 1, 'scallop': 2, 'perfectli': 3, 'rip': 2, 'banana': 1, 'petrifi': 1, 'tasteless': 5, 'least': 4, 'think': 17, 'refil': 2, 'water': 4, 'struggl': 1, 'wave': 1, '10': 5, 'minut': 19, 'receiv': 4, 'star': 18, 'appet': 3, 'cocktail': 2, 'handmad': 1, 'delici': 24, 'wed': 1, 'definit': 18, 'glad': 2, 'give': 10, 'militari': 1, 'discount': 1, 'alway': 15, 'do': 1, 'gringo': 1, 'updatew': 1, 'second': 3, 'got': 18, 'appar': 1, 'heard': 2, 'salt': 3, 'batter': 2, 'fish': 5, 'chewi': 3, 'way': 15, 'finish': 2, 'includ': 2, '2': 8, 'drink': 9, 'jeff': 1, 'went': 12, 'beyond': 2, 'expect': 9, 'realli': 36, 'rice': 4, 'meh': 2, '30': 6, 'min': 2, 'milkshak': 1, 'noth': 7, 'chocol': 1, 'milk': 1, 'guess': 3, 'known': 2, 'excalibur': 1, 'use': 5, 'common': 1, 'sens': 1, 'dish': 17, 'quit': 9, 'appal': 1, 'valu': 2, 'well': 18, 'sweet': 5, 'season': 4, 'today': 4, 'ive': 20, 'lunch': 9, 'buffet': 12, 'cheat': 1, 'wast': 8, 'opportun': 2, 'compani': 2, 'come': 21, 'experienc': 2, 'underwhelm': 2, 'relationship': 1, 'parti': 4, 'cant': 11, 'wait': 29, 'person': 4, 'break': 3, 'walk': 3, 'smell': 2, 'old': 5, 'greas': 2, 'trap': 1, 'other': 2, 'turkey': 1, 'roast': 4, 'bland': 11, 'pan': 1, 'cake': 1, 'everyon': 4, 'rave': 2, 'sugari': 2, 'disast': 1, 'tailor': 1, 'palat': 1, 'six': 2, 'year': 5, 'spring': 1, 'roll': 5, 'oh': 3, 'yummi': 4, 'meat': 10, 'ratio': 1, 'unsatisfi': 1, 'omelet': 1, 'die': 2, 'everyth': 10, 'summari': 1, 'larg': 5, 'disappoint': 30, 'dine': 10, 'experi': 20, 'sexi': 1, 'mouth': 5, 'your': 3, 'outrag': 1, 'flirt': 1, 'hottest': 1, 'rock': 1, 'casino': 1, 'step': 2, 'forward': 1, 'best': 30, 'breakfast': 9, 'bye': 2, 'tip': 3, 'ladi': 4, 'arriv': 5, 'quickli': 3, 'cafe': 3, 'serv': 12, 'fantast': 12, 'wife': 3, 'garlic': 2, 'bone': 1, 'marrow': 2, 'ad': 2, 'extra': 2, 'meal': 14, 'anoth': 10, 'help': 7, 'bloddi': 1, 'mari': 2, 'town': 7, 'cannot': 2, 'beat': 4, 'mussel': 1, 'wine': 5, 'reduct': 1, 'better': 16, 'tigerlilli': 1, 'afternoon': 1, 'bartend': 3, 'ambienc': 3, 'music': 3, 'play': 3, 'next': 11, 'trip': 5, 'sooooo': 1, 'real': 5, 'sushi': 13, 'lover': 3, 'honest': 3, 'yama': 1, '40min': 1, 'pass': 2, 'wasnt': 13, 'busi': 8, 'thai': 5, 'spici': 8, 'check': 9, 'atmospher': 10, 'kind': 4, 'mess': 1, 'steak': 18, 'although': 3, 'sound': 1, 'actual': 3, 'bit': 9, 'know': 11, 'manag': 11, 'blandest': 1, 'eaten': 5, 'prepar': 4, 'indian': 2, 'cuisin': 1, 'boot': 2, 'worri': 1, 'fine': 3, 'guy': 3, 'son': 1, 'said': 8, 'he': 1, 'thought': 5, 'youd': 2, 'ventur': 2, 'away': 5, 'hit': 6, 'spot': 9, 'night': 12, 'host': 1, 'lack': 7, 'word': 3, 'bitch': 1, 'number': 1, 'reason': 9, 'review': 8, 'ill': 7, 'leav': 5, 'phenomen': 1, 'ambianc': 7, 'wouldnt': 3, 'return': 7, 'strip': 3, 'pork': 4, 'belli': 3, 'im': 21, 'mediocr': 6, 'penn': 1, 'vodka': 1, 'excel': 10, 'massiv': 1, 'meatloaf': 1, 'crispi': 1, 'wrap': 3, 'delish': 3, 'tuna': 2, 'rude': 9, 'nyc': 1, 'bagel': 2, 'cream': 4, 'chees': 3, 'lox': 1, 'caper': 1, 'even': 21, 'subway': 3, 'fact': 4, 'meet': 1, 'serious': 7, 'solid': 1, 'bar': 9, 'extrem': 5, 'mani': 9, 'weekend': 1, 'empti': 3, 'suggest': 2, 'ate': 3, 'curri': 2, 'bamboo': 1, 'shoot': 1, 'blanket': 1, 'moz': 1, 'top': 2, 'done': 6, 'cover': 3, 'subpar': 2, 'bathroom': 5, 'clean': 9, 'decor': 5, 'chang': 1, 'consid': 5, '3': 4, 'pace': 2, 'thumb': 4, 'watch': 5, 'pay': 5, 'ignor': 2, 'fiancé': 1, 'middl': 1, 'day': 9, 'greet': 2, 'seat': 9, 'mandalay': 1, 'bay': 4, 'forti': 1, 'five': 1, 'vain': 1, 'crostini': 1, 'stale': 3, 'highlight': 3, 'nigiri': 1, 'joint': 2, 'differ': 4, 'cut': 2, 'piec': 4, 'flavor': 18, 'voodoo': 1, 'id': 5, 'sinc': 8, 'gluten': 1, 'free': 1, 'ago': 3, 'unfortun': 4, 'must': 6, 'bakeri': 2, 'leftov': 1, 'reloc': 1, 'impress': 9, 'immedi': 3, 'divers': 1, 'avoid': 6, 'cost': 1, 'full': 5, 'handsdown': 1, 'phoenix': 4, 'metro': 1, 'area': 7, 'treat': 5, 'bacon': 5, 'hella': 1, 'salti': 1, 'spinach': 1, 'avocado': 1, 'ingredi': 1, 'sad': 4, 'liter': 3, 'zero': 5, 'hand': 5, 'list': 4, 'lordi': 1, 'khao': 1, 'soi': 1, 'miss': 3, 'terrif': 1, 'thrill': 1, 'accommod': 1, 'vegetarian': 3, 'daughter': 1, 'perhap': 1, 'caught': 1, 'inspir': 1, 'desir': 1, 'modern': 1, 'hip': 1, 'maintain': 1, 'cozi': 1, 'weekli': 1, 'haunt': 1, 'sat': 5, '20': 4, 'take': 8, 'overcook': 2, 'charcoal': 2, 'decid': 3, 'send': 1, 'verg': 1, 'probabl': 10, 'dirt': 2, 'someth': 4, 'healthi': 3, 'quantiti': 1, 'lemon': 1, 'raspberri': 1, 'ice': 6, 'incred': 5, 'interest': 3, 'crepe': 1, 'station': 2, 'hot': 9, 'bread': 5, 'butter': 3, 'home': 5, 'chip': 8, 'topveri': 1, 'origin': 1, 'egg': 5, 'gyro': 3, 'wing': 4, 'satisfi': 3, 'joey': 1, 'vote': 1, 'dog': 3, 'valley': 2, 'reader': 1, 'magazin': 1, 'bowl': 2, 'live': 6, 'friday': 1, 'insult': 4, 'felt': 8, 'disrespect': 2, 'drive': 5, 'exceed': 1, 'hope': 6, 'dream': 1, 'serivc': 1, 'brunch': 3, 'invit': 1, '1979': 1, 'last': 6, 'foot': 1, 'mix': 1, 'mushroom': 2, 'yukon': 1, 'gold': 2, 'pure': 2, 'white': 3, 'corn': 1, 'beateou': 1, 'bug': 2, 'show': 2, 'given': 2, 'climb': 1, 'kitchen': 1, 'soon': 9, 'friend': 9, 'tartar': 2, 'wont': 19, 'though': 4, 'soggi': 3, 'jamaican': 1, 'mojito': 1, 'small': 6, 'rich': 1, 'accordingli': 1, 'shower': 2, 'rins': 1, 'unless': 3, 'mind': 2, 'nude': 1, 'see': 6, 'lobster': 3, 'bisqu': 2, 'bussel': 1, 'sprout': 1, 'risotto': 1, 'filet': 2, 'need': 9, 'pepperand': 1, 'cours': 3, 'none': 3, 'bode': 1, 'someon': 4, 'either': 6, 'cold': 9, 'date': 2, 'unbeliev': 2, 'bargain': 1, 'folk': 4, 'otto': 1, 'make': 9, 'welcom': 1, 'special': 7, 'main': 3, 'uninspir': 1, 'muststop': 1, 'whenev': 1, 'isnt': 3, 'world': 3, 'worstannoy': 1, 'drunk': 1, 'fun': 4, 'chef': 4, 'doubl': 2, 'cheeseburg': 2, 'singl': 2, 'patti': 1, 'fall': 1, 'apart': 1, 'pictur': 2, 'upload': 1, 'yeah': 1, 'coupl': 4, 'sport': 1, 'event': 2, 'tv': 1, 'possibl': 4, 'theyd': 1, 'descript': 1, 'yum': 2, 'eel': 1, 'yet': 3, 'mayowel': 1, 'hardest': 1, 'decis': 1, 'honestli': 2, 'ms': 1, 'suppos': 1, 'eye': 2, 'stay': 7, 'money': 6, 'flavour': 1, 'almost': 2, 'build': 2, 'freez': 1, 'couldnt': 3, 'close': 5, 'point': 3, 'ayc': 1, 'light': 2, 'dark': 2, 'set': 5, 'mood': 2, 'base': 1, 'effort': 1, 'gratitud': 1, 'owner': 7, 'privileg': 1, 'working': 1, 'creami': 2, 'parent': 1, 'similar': 2, 'complaint': 2, 'silent': 1, 'pizza': 18, 'peanut': 2, '7': 1, 'fast': 5, 'wouldv': 1, 'godfath': 1, 'tough': 1, 'short': 1, 'stick': 2, 'recal': 1, 'charg': 2, 'tap': 2, 'exquisit': 1, 'plu': 2, '8': 3, 'buck': 2, 'par': 2, 'thu': 1, 'far': 7, 'twice': 6, 'self': 1, 'proclaim': 1, 'coffe': 2, 'wildli': 1, 'veggitarian': 1, 'platter': 1, 'wrong': 5, 'madison': 1, 'ironman': 1, 'job': 4, 'dedic': 1, 'boba': 2, 'tea': 4, 'jenni': 1, 'patio': 3, 'outstand': 3, 'goat': 1, 'skimp': 1, 'mac': 1, 'bachi': 2, 'stink': 1, 'burn': 1, 'saganaki': 1, '100': 2, 'hate': 3, 'disagre': 1, 'fellow': 1, 'yelper': 1, 'later': 2, 'neighborhood': 2, 'conveni': 2, 'locat': 5, 'pull': 3, 'soooo': 2, 'gave': 4, '1': 4, 'rate': 4, 'pleas': 6, 'third': 2, 'write': 1, 'stir': 2, 'noodl': 1, 'count': 1, 'box': 2, '12': 3, 'bore': 1, 'servicecheck': 1, 'greedi': 1, 'corpor': 1, 'dime': 1, 'atroci': 1, 'summer': 2, 'charm': 1, 'outdoor': 1, 'toast': 3, 'english': 1, 'muffin': 1, 'untoast': 1, 'high': 3, 'hous': 3, 'bu': 1, 'boy': 3, 'basic': 2, 'figur': 1, 'joke': 2, 'publicli': 1, 'loudli': 1, 'bbq': 1, 'lighter': 1, 'fare': 2, 'public': 1, 'two': 8, 'happi': 8, 'inhous': 1, 'downsid': 1, 'without': 2, 'doubt': 2, 'except': 1, 'month': 1, 'favorit': 3, 'shawarrrrrrma': 1, 'black': 2, 'pea': 1, 'unreal': 1, 'vinaigrett': 1, 'seen': 2, 'especi': 3, '400': 1, 'mom': 3, 'pleasant': 3, 'honor': 1, 'hut': 1, 'coupon': 1, 'truli': 1, 'dirti': 4, 'replenish': 1, 'plain': 1, 'yucki': 1, 'standard': 1, '17': 1, 'omg': 2, 'delicioso': 1, 'authent': 6, 'spaghetti': 1, 'whatsoev': 1, 'veget': 4, 'tucson': 1, 'vegasther': 1, 'chipotl': 1, 'classywarm': 1, 'succul': 1, 'basebal': 1, 'brick': 2, 'oven': 2, 'app': 1, 'multipl': 2, 'ten': 2, 'terribl': 10, 'equal': 3, 'shouldnt': 1, 'pancak': 3, 'genuin': 1, 'enthusiast': 1, 'sadli': 1, 'gordon': 1, 'ramsey': 1, 'shall': 1, 'sharpli': 1, 'life': 2, 'door': 3, 'offer': 3, 'cool': 3, 'turn': 1, 'els': 3, 'buy': 1, 'handl': 2, 'rowdi': 1, 'find': 3, 'despic': 1, 'soup': 5, 'lukewarm': 2, 'crave': 1, 'deserv': 3, 'stomach': 3, 'ach': 1, 'rest': 1, 'drop': 1, 'ball': 1, 'space': 1, 'tini': 1, 'elegantli': 1, 'comfort': 2, 'usual': 1, 'eggplant': 2, 'green': 4, 'bean': 4, 'outta': 1, 'part': 2, 'inconsider': 1, 'hi': 1, 'dinner': 7, 'outshin': 1, 'halibut': 1, 'told': 3, 'happen': 2, 'car': 2, 'front': 2, 'starv': 1, '90': 1, 'disgrac': 2, 'def': 1, 'ethic': 1, 'continu': 1, 'andddd': 1, 'anyon': 2, 'past': 1, 'stuf': 2, 'crystal': 1, 'shop': 3, 'mall': 2, 'aria': 1, 'summar': 1, 'nay': 1, 'transcend': 1, 'bring': 6, 'joy': 1, 'memori': 1, 'pneumat': 1, 'condiment': 1, 'dispens': 1, 'ian': 1, 'kid': 3, 'option': 4, 'kiddo': 1, 'perfect': 12, 'famili': 7, 'impecc': 2, 'simpli': 2, 'bouchon': 1, 'account': 1, 'screw': 1, 'remind': 2, 'pop': 2, 'san': 1, 'francisco': 1, 'buldogi': 1, 'gourmet': 1, 'frustrat': 1, 'petti': 1, 'hungri': 1, 'assur': 2, 'teeth': 1, 'sore': 2, 'complet': 3, 'becom': 2, 'regular': 3, 'profession': 2, 'companion': 1, 'meeveryth': 1, 'ground': 1, 'smear': 1, 'beensteppedinandtrackedeverywher': 1, 'pile': 1, 'bird': 1, 'poop': 1, 'furthermor': 1, 'oper': 1, 'websit': 1, 'weve': 2, 'mistak': 2, 'expertconnisseur': 1, 'topic': 1, 'jerk': 1, 'strike': 1, 'rush': 1, 'nicest': 2, 'across': 1, 'biscuit': 3, '40': 4, 'absolutley': 1, 'awkward': 1, '15lb': 1, 'cow': 2, '34th': 1, 'gristl': 1, 'fat': 1, 'steiner': 1, 'dollar': 1, 'anyway': 3, 'fs': 1, 'breakfastlunch': 1, 'week': 2, 'mention': 1, 'combin': 2, 'pear': 1, 'almond': 1, 'big': 3, 'winner': 1, 'spicier': 1, 'prefer': 1, 'ribey': 1, 'mesquit': 1, 'anytim': 5, 'gooodd': 1, 'connoisseur': 1, 'certainli': 1, 'contain': 3, 'driest': 2, 'relax': 2, 'venu': 1, 'group': 3, 'etc': 1, 'nargil': 1, 'tater': 1, 'tot': 2, 'southwest': 1, 'paid': 2, 'vanilla': 1, 'smooth': 1, 'profiterol': 1, 'choux': 1, 'pastri': 1, 'az': 1, 'new': 5, 'carli': 1, 'due': 1, 'acknowledg': 2, '35': 3, 'foodand': 1, 'forget': 1, 'margarita': 2, 'ventil': 1, 'upgrad': 1, 'letdown': 1, 'rather': 3, 'camelback': 1, 'flower': 2, 'cartel': 1, 'trim': 1, '70': 1, 'claim': 1, 'bill': 3, 'jewel': 1, 'la': 1, 'exactli': 1, 'nearli': 1, 'limit': 1, 'boil': 1, 'crab': 2, 'leg': 2, 'toro': 1, 'cavier': 1, 'extraordinari': 1, 'thinli': 1, 'slice': 3, 'wagyu': 1, 'truffl': 1, 'long': 5, 'attach': 1, 'ga': 1, 'awesom': 12, 'wors': 3, 'humili': 1, 'worker': 2, 'mebunch': 1, 'name': 1, 'call': 2, 'conclus': 1, 'fill': 3, 'daili': 1, 'tragedi': 1, 'struck': 1, 'crawfish': 1, 'monster': 1, 'funni': 1, 'multigrain': 1, 'pumpkin': 1, 'pecan': 1, 'fluffi': 1, 'airlin': 1, 'noca': 1, 'lettuc': 1, 'thoroughli': 1, 'homemad': 3, 'thin': 4, 'cheesecurd': 1, 'typic': 1, 'glanc': 1, 'finger': 1, 'item': 1, 'havent': 1, 'gone': 3, 'greasi': 1, 'unhealthi': 1, 'might': 1, 'similarli': 1, 'deliveri': 1, 'man': 1, 'apolog': 2, '45': 1, 'expens': 1, 'pack': 2, 'togo': 1, 'tiramisu': 1, 'cannoli': 1, 'upway': 1, 'sun': 1, 'whole': 2, 'bunch': 1, 'choos': 2, 'frenchman': 1, 'martini': 1, 'opinion': 1, 'entre': 2, 'gc': 1, 'sampl': 1, 'thirti': 1, 'vacant': 1, 'yellowtail': 1, 'carpaccio': 1, 'stranger': 1, 'hello': 1, 'strang': 1, 'boyfriend': 3, 'recent': 4, 'donut': 1, 'save': 1, 'room': 3, 'mayb': 3, 'howev': 2, 'particular': 1, 'suffer': 1, 'tapa': 2, 'vinegrett': 2, 'babi': 2, 'palm': 1, 'believ': 3, 'hanker': 1, 'forth': 1, 'theft': 1, 'eew': 1, 'overhaul': 1, 'wit': 1, 'guest': 2, 'regularli': 1, 'super': 7, 'swung': 1, 'deepli': 1, 'effici': 1, 'fan': 2, 'sucker': 1, 'dri': 5, '15': 1, 'cheap': 2, 'oliv': 1, 'perpar': 1, 'present': 2, 'giant': 1, 'lightli': 1, 'dust': 1, 'powder': 1, 'sugar': 1, 'fo': 1, 'accomod': 1, 'veganveggi': 1, 'crumbi': 1, 'pale': 1, 'color': 2, 'instead': 1, 'crouton': 1, 'itll': 1, 'crema': 1, 'café': 1, 'expand': 1, 'wish': 1, 'philadelphia': 1, 'sit': 2, 'fairli': 2, 'crisp': 1, 'north': 1, 'scottsdal': 1, 'soooooo': 1, 'freak': 1, 'paper': 3, 'reheat': 1, 'ok': 3, 'wedg': 1, 'sorri': 1, 'tongu': 1, 'cheek': 1, 'bloodi': 1, 'despit': 1, 'yellow': 1, 'saffron': 1, 'thru': 1, 'mean': 3, 'half': 3, 'somehow': 1, 'luck': 1, 'noncustom': 1, 'focus': 2, 'grandmoth': 1, 'hostess': 1, 'four': 1, 'blue': 1, 'shirt': 1, 'vibe': 3, 'drastic': 1, 'highqual': 1, 'caesar': 1, 'promptli': 1, 'madhous': 1, 'proven': 1, 'dead': 1, 'greatest': 1, 'macaron': 1, 'insan': 1, 'inform': 1, 'werent': 1, 'somewhat': 1, 'edibl': 3, 'promis': 2, 'fail': 3, 'deliv': 1, 'averag': 4, 'plater': 1, 'sitdown': 1, 'togeth': 1, 'poorli': 1, 'construct': 1, 'italian': 2, 'scream': 1, 'legit': 2, 'booksomethat': 1, 'duo': 1, 'violinist': 1, 'song': 1, 'request': 1, 'baklava': 1, 'falafel': 1, 'baba': 1, 'ganoush': 1, 'mgm': 1, 'courteou': 1, 'eclect': 1, 'onion': 1, 'ring': 1, 'work': 3, 'nobu': 1, 'googl': 1, 'smashburg': 1, 'gem': 1, 'plantain': 1, 'spend': 3, 'panna': 1, 'cotta': 1, 'atmosphere1': 1, 'slaw': 1, 'drench': 1, 'mayo': 1, 'piano': 1, 'soundtrack': 1, 'amazingrg': 1, 'fillet': 1, 'relleno': 1, 'plate': 2, 'sergeant': 1, 'pepper': 1, 'auju': 1, 'hawaiian': 1, 'breez': 1, 'mango': 1, 'magic': 1, 'pineappl': 1, 'smoothi': 1, 'theyr': 1, 'mortifi': 1, 'needless': 2, 'drip': 1, 'mostli': 1, '2007': 1, 'hospit': 1, 'industri': 1, 'paradis': 1, 'refrain': 1, 'cibo': 1, 'longer': 2, 'famou': 1, 'read': 2, 'pro': 1, 'simpl': 2, 'dough': 1, 'tonight': 1, 'elk': 1, 'specialand': 1, 'hook': 1, 'classic': 2, 'quaint': 1, 'compliment': 1, 'thank': 1, 'dylan': 1, 'tummi': 1, 'gratuiti': 1, 'larger': 1, '6': 1, 'fli': 2, 'appl': 1, 'juic': 1, 'han': 1, 'nan': 1, 'bare': 6, 'ryan': 1, 'edinburgh': 1, 'revisit': 1, 'chines': 2, 'naan': 1, 'pine': 1, 'nut': 1, 'airport': 1, 'speedi': 1, 'calligraphi': 1, 'anyth': 2, 'complain': 2, 'stood': 1, 'begin': 1, 'awkwardli': 1, 'open': 1, 'extens': 1, 'wide': 1, 'array': 1, 'inflat': 1, 'smaller': 1, 'grow': 1, 'rapidli': 1, 'lil': 1, 'fuzzi': 1, 'fabul': 1, 'wonton': 1, 'thick': 1, 'level': 1, 'spice': 2, 'crowd': 3, 'older': 1, 'mid': 2, 'arepa': 1, 'jalapeno': 1, 'shoe': 1, 'leather': 1, 'defin': 2, 'block': 1, 'lowkey': 1, 'nonfanc': 1, 'afford': 1, 'sour': 1, 'sunday': 1, 'tradit': 1, 'hunan': 1, 'style': 3, 'bother': 2, 'flair': 1, 'nutshel': 1, 'restaraunt': 1, 'market': 1, 'sewer': 1, 'girlfriend': 1, 'veal': 1, 'satifi': 1, 'join': 1, 'club': 1, 'via': 1, 'email': 1, 'case': 1, 'colder': 1, 'flavorless': 2, 'describ': 1, 'tepid': 1, 'chain': 1, 'easili': 1, 'nacho': 2, 'crazi': 2, 'juri': 1, 'lawyer': 1, 'court': 1, '785': 1, 'wienerschnitzel': 1, 'idea': 1, 'brother': 1, 'law': 1, 'herea': 1, 'tribut': 2, 'held': 1, 'salsa': 3, 'youll': 1, 'pissd': 1, 'surpris': 2, 'goldencrispi': 1, 'fell': 2, 'flat': 2, 'bruschetta': 1, 'devin': 1, 'employe': 2, 'lastli': 1, 'mozzarella': 1, 'neglig': 1, 'unwelcom': 1, 'consist': 1, 'fruit': 1, 'peach': 1, 'offici': 1, 'blown': 1, 'put': 2, 'plastic': 1, 'oppos': 1, 'cram': 1, 'takeout': 1, 'crêpe': 1, 'delic': 1, 'aw': 3, 'fair': 1, 'kabuki': 1, 'overhip': 1, 'underservic': 1, 'maria': 1, 'articl': 1, 'fuck': 1, 'caballero': 1, 'head': 2, 'oyster': 1, 'round': 1, 'disbelief': 1, 'qualifi': 1, 'version': 1, 'low': 1, 'toler': 1, 'polit': 1, 'wash': 1, 'otherwis': 1, 'heat': 2, 'coconut': 1, 'fella': 1, 'huevo': 1, 'ranchero': 1, 'appeal': 1, 'pricey': 1, 'foodservic': 1, 'tempi': 1, 'gloveseveryth': 1, 'deep': 1, 'oil': 1, 'pleasur': 1, 'plethora': 1, 'seal': 1, 'approv': 1, 'colleg': 1, 'class': 1, 'start': 2, 'edit': 1, 'besid': 1, 'costco': 1, 'uniqu': 1, 'weird': 1, 'hardli': 1, 'groceri': 1, 'store': 1, 'ownerchef': 1, 'japanes': 1, 'dude': 1, 'arent': 2, 'doughi': 1, 'inch': 1, 'wire': 1, 'albondiga': 1, 'tomato': 1, 'meatbal': 1, 'three': 2, 'occas': 1, 'medium': 1, 'bloodiest': 1, 'refus': 1, 'anymor': 1, 'killer': 1, 'chai': 1, 'latt': 1, 'allergi': 1, 'warn': 1, 'clue': 1, 'mediterranean': 1, 'rotat': 1, 'concern': 1, 'mellow': 1, 'strawberri': 1, 'unprofession': 1, 'loyal': 1, 'patron': 1, 'occasion': 1, 'pat': 1, 'mmmm': 1, 'bellagio': 1, 'anticip': 1, 'weak': 1, 'correct': 2, 'bought': 1, 'sal': 1, 'fav': 1, 'unexperienc': 1, 'steakhous': 1, 'properli': 1, 'understand': 1, 'concept': 1, 'guacamol': 1, 'puré': 1, 'postino': 1, 'poison': 1, 'batch': 1, 'yay': 1, 'hilari': 1, 'christma': 1, 'eve': 1, 'rememb': 1, 'biggest': 1, 'entir': 1, 'teamwork': 1, 'degre': 1, 'ri': 1, 'calamari': 1, 'fondu': 1, 'lost': 2, 'forev': 1, 'scene': 1, 'itdefinit': 1, 'denni': 1, 'downright': 1, 'waaaaaayyyyyyyyyi': 1, 'sangria': 1, 'glass': 1, 'ridicul': 1, 'brisket': 1, 'neat': 1, 'trippi': 1, 'hurri': 1, 'reserv': 1, 'stretch': 1, 'cashew': 1, 'undercook': 2, 'chipolt': 1, 'ranch': 1, 'dip': 1, 'saus': 1, 'douchey': 1, 'indoor': 1, 'garden': 1, 'con': 1, 'spotti': 1, 'neither': 1, 'ensu': 1, 'bing': 1, 'carb': 1, 'profound': 1, 'deuchebaggeri': 1, 'smoke': 1, 'solidifi': 1, 'ala': 1, 'cart': 1, 'blame': 1, 'herewhat': 1, 'del': 1, 'hamburg': 1, 'hell': 1, 'gotten': 1, 'yaall': 1, 'shot': 1, 'firebal': 1, 'disapppoint': 1, 'heimer': 1, 'prettyoff': 1, 'caus': 1, 'own': 1, 'vomit': 1, 'circumst': 1, 'brownish': 1, 'obvious': 1, 'movi': 1, 'ha': 1, 'flop': 1, 'problem': 1, '1199': 1, 'bigger': 1, 'sub': 1, 'unwrap': 1, 'mile': 1, 'brushfir': 1, 'hasnt': 1, 'mirag': 1, 'refri': 1, 'crusti': 1, 'caterpillar': 1, 'appetit': 1, 'instantli': 1, 'ninja': 1, 'hadnt': 1, 'pour': 1, 'wound': 1, 'draw': 1}\n"
     ]
    }
   ],
   "source": [
    "print(freq)"
   ]
  },
  {
   "cell_type": "markdown",
   "metadata": {},
   "source": [
    "#### Bow"
   ]
  },
  {
   "cell_type": "code",
   "execution_count": 66,
   "metadata": {},
   "outputs": [],
   "source": [
    "from sklearn.feature_extraction.text import CountVectorizer\n",
    "cvec=CountVectorizer(max_features=1200)\n",
    "x=cvec.fit_transform(corpusdata).toarray()\n",
    "y=datatsv.iloc[:,1].values\n",
    "\n"
   ]
  },
  {
   "cell_type": "code",
   "execution_count": 68,
   "metadata": {},
   "outputs": [],
   "source": [
    "from sklearn.model_selection import train_test_split\n",
    "x_train, x_test, y_train, y_test= train_test_split(x,y,test_size=0.2,random_state=0)\n"
   ]
  },
  {
   "cell_type": "code",
   "execution_count": 69,
   "metadata": {},
   "outputs": [
    {
     "data": {
      "text/plain": [
       "200"
      ]
     },
     "execution_count": 69,
     "metadata": {},
     "output_type": "execute_result"
    }
   ],
   "source": [
    "len(x_test)"
   ]
  },
  {
   "cell_type": "code",
   "execution_count": 70,
   "metadata": {},
   "outputs": [
    {
     "data": {
      "text/plain": [
       "800"
      ]
     },
     "execution_count": 70,
     "metadata": {},
     "output_type": "execute_result"
    }
   ],
   "source": [
    "len(x_train)"
   ]
  },
  {
   "cell_type": "code",
   "execution_count": 73,
   "metadata": {},
   "outputs": [
    {
     "data": {
      "text/plain": [
       "array([[0, 0, 0, ..., 0, 0, 0],\n",
       "       [0, 0, 0, ..., 0, 0, 0],\n",
       "       [0, 0, 0, ..., 0, 0, 0],\n",
       "       ...,\n",
       "       [0, 0, 0, ..., 0, 0, 0],\n",
       "       [0, 0, 0, ..., 0, 0, 0],\n",
       "       [0, 0, 0, ..., 0, 0, 0]], dtype=int64)"
      ]
     },
     "execution_count": 73,
     "metadata": {},
     "output_type": "execute_result"
    }
   ],
   "source": [
    "x_test"
   ]
  },
  {
   "cell_type": "code",
   "execution_count": 74,
   "metadata": {},
   "outputs": [
    {
     "data": {
      "text/plain": [
       "array([1, 1, 1, 0, 1, 0, 1, 0, 0, 0, 1, 0, 0, 1, 1, 0, 1, 1, 1, 1, 0, 1,\n",
       "       0, 0, 1, 1, 1, 0, 0, 1, 1, 1, 1, 0, 1, 0, 1, 1, 1, 0, 1, 1, 1, 1,\n",
       "       0, 1, 0, 0, 1, 0, 0, 1, 1, 0, 0, 0, 1, 1, 0, 1, 0, 1, 1, 0, 0, 1,\n",
       "       1, 0, 1, 0, 0, 0, 1, 1, 0, 1, 1, 1, 0, 1, 0, 0, 1, 1, 1, 0, 1, 0,\n",
       "       1, 0, 0, 0, 1, 0, 0, 0, 0, 0, 1, 1, 1, 0, 1, 1, 1, 1, 0, 0, 1, 0,\n",
       "       0, 0, 0, 0, 0, 0, 1, 1, 1, 1, 0, 0, 0, 0, 0, 0, 1, 1, 1, 1, 1, 0,\n",
       "       1, 0, 1, 0, 1, 0, 0, 1, 0, 1, 0, 0, 1, 0, 1, 0, 0, 0, 1, 1, 1, 0,\n",
       "       0, 0, 1, 1, 1, 0, 0, 0, 0, 0, 1, 0, 0, 1, 0, 0, 0, 0, 1, 0, 0, 0,\n",
       "       0, 0, 1, 1, 1, 1, 1, 1, 0, 0, 1, 0, 1, 1, 1, 1, 0, 0, 1, 0, 0, 0,\n",
       "       0, 0, 1, 1, 1, 0, 1, 1, 0, 1, 1, 1, 0, 1, 1, 0, 0, 0, 1, 1, 0, 1,\n",
       "       0, 1, 0, 0, 0, 0, 0, 1, 0, 1, 0, 0, 1, 0, 1, 0, 1, 1, 0, 1, 1, 1,\n",
       "       0, 0, 1, 1, 1, 1, 1, 0, 1, 1, 0, 0, 0, 1, 0, 0, 1, 0, 0, 0, 1, 0,\n",
       "       0, 0, 0, 1, 1, 1, 0, 0, 1, 0, 1, 1, 0, 0, 1, 0, 1, 0, 0, 1, 0, 1,\n",
       "       1, 0, 1, 0, 1, 1, 0, 1, 1, 0, 1, 1, 1, 1, 1, 1, 1, 1, 0, 1, 0, 1,\n",
       "       1, 1, 1, 0, 1, 0, 1, 0, 1, 0, 1, 1, 1, 0, 1, 0, 1, 1, 1, 1, 1, 1,\n",
       "       1, 0, 0, 1, 1, 1, 0, 0, 1, 1, 0, 1, 0, 1, 0, 0, 0, 1, 1, 1, 0, 1,\n",
       "       1, 1, 1, 1, 1, 0, 0, 1, 0, 1, 0, 0, 1, 0, 0, 0, 1, 0, 0, 1, 1, 1,\n",
       "       1, 0, 0, 0, 0, 1, 0, 1, 0, 0, 0, 1, 1, 0, 0, 0, 1, 1, 0, 0, 0, 0,\n",
       "       0, 0, 0, 1, 1, 0, 1, 0, 0, 0, 1, 1, 1, 0, 0, 0, 0, 0, 0, 1, 1, 1,\n",
       "       1, 1, 1, 1, 1, 1, 1, 1, 0, 1, 1, 1, 0, 0, 1, 1, 0, 1, 1, 1, 0, 0,\n",
       "       0, 1, 1, 1, 1, 0, 0, 0, 0, 1, 0, 0, 0, 0, 0, 0, 0, 1, 0, 1, 1, 0,\n",
       "       0, 0, 1, 1, 1, 0, 0, 1, 1, 0, 0, 1, 0, 0, 0, 1, 0, 1, 0, 0, 1, 0,\n",
       "       1, 0, 1, 1, 0, 0, 1, 0, 1, 1, 1, 0, 0, 0, 0, 0, 0, 0, 1, 0, 0, 0,\n",
       "       0, 0, 1, 0, 1, 0, 0, 0, 1, 1, 0, 1, 1, 0, 0, 0, 0, 1, 0, 0, 1, 0,\n",
       "       1, 1, 0, 1, 1, 1, 1, 0, 1, 0, 1, 0, 1, 0, 0, 1, 0, 1, 1, 1, 0, 0,\n",
       "       1, 0, 0, 1, 0, 1, 0, 1, 0, 1, 0, 0, 0, 1, 0, 1, 1, 1, 1, 1, 0, 0,\n",
       "       1, 1, 0, 1, 0, 1, 1, 1, 0, 1, 0, 0, 0, 0, 1, 1, 0, 0, 0, 0, 1, 1,\n",
       "       1, 0, 1, 1, 0, 0, 0, 1, 0, 0, 1, 1, 1, 1, 1, 0, 1, 1, 1, 0, 1, 0,\n",
       "       0, 0, 0, 0, 1, 0, 1, 1, 1, 1, 0, 0, 0, 1, 1, 0, 1, 0, 0, 1, 0, 0,\n",
       "       1, 0, 0, 0, 0, 1, 0, 0, 1, 0, 1, 0, 1, 1, 1, 1, 0, 1, 0, 1, 1, 1,\n",
       "       0, 1, 0, 0, 1, 0, 0, 0, 1, 0, 1, 1, 0, 0, 0, 1, 0, 1, 1, 1, 1, 0,\n",
       "       0, 0, 0, 1, 0, 0, 0, 1, 1, 0, 0, 1, 1, 0, 0, 0, 1, 1, 0, 1, 1, 1,\n",
       "       1, 0, 1, 0, 0, 1, 1, 1, 0, 0, 0, 0, 0, 0, 0, 0, 0, 1, 0, 1, 0, 0,\n",
       "       0, 1, 1, 0, 0, 1, 1, 0, 0, 0, 0, 0, 0, 0, 1, 1, 1, 1, 1, 0, 1, 0,\n",
       "       0, 1, 0, 1, 1, 0, 0, 0, 1, 1, 0, 1, 1, 1, 1, 1, 1, 0, 1, 1, 0, 0,\n",
       "       0, 0, 1, 0, 0, 0, 1, 1, 1, 1, 0, 1, 0, 1, 1, 1, 0, 1, 0, 1, 1, 1,\n",
       "       1, 0, 0, 0, 0, 1, 1, 1], dtype=int64)"
      ]
     },
     "execution_count": 74,
     "metadata": {},
     "output_type": "execute_result"
    }
   ],
   "source": [
    "y_train"
   ]
  },
  {
   "cell_type": "markdown",
   "metadata": {},
   "source": [
    "## Train model"
   ]
  },
  {
   "cell_type": "markdown",
   "metadata": {},
   "source": [
    "#### logistic regression"
   ]
  },
  {
   "cell_type": "code",
   "execution_count": 75,
   "metadata": {},
   "outputs": [
    {
     "data": {
      "text/plain": [
       "LogisticRegression()"
      ]
     },
     "execution_count": 75,
     "metadata": {},
     "output_type": "execute_result"
    }
   ],
   "source": [
    "from sklearn.linear_model import LogisticRegression\n",
    "model=LogisticRegression()\n",
    "model.fit(x_train,y_train)"
   ]
  },
  {
   "cell_type": "markdown",
   "metadata": {},
   "source": [
    "#### evaluation"
   ]
  },
  {
   "cell_type": "code",
   "execution_count": 76,
   "metadata": {},
   "outputs": [
    {
     "name": "stdout",
     "output_type": "stream",
     "text": [
      "Accuracy :  0.75\n"
     ]
    }
   ],
   "source": [
    "from sklearn.metrics import accuracy_score\n",
    "y_pred = model.predict(x_test)\n",
    "print(\"Accuracy : \",accuracy_score(y_test,y_pred))"
   ]
  },
  {
   "cell_type": "code",
   "execution_count": 77,
   "metadata": {},
   "outputs": [
    {
     "data": {
      "text/plain": [
       "array([[79, 18],\n",
       "       [32, 71]], dtype=int64)"
      ]
     },
     "execution_count": 77,
     "metadata": {},
     "output_type": "execute_result"
    }
   ],
   "source": [
    "from sklearn.metrics import confusion_matrix\n",
    " \n",
    "cm = confusion_matrix(y_test, y_pred)\n",
    " \n",
    "cm"
   ]
  },
  {
   "cell_type": "markdown",
   "metadata": {},
   "source": [
    "### Random forest (best one so far)"
   ]
  },
  {
   "cell_type": "code",
   "execution_count": 103,
   "metadata": {},
   "outputs": [
    {
     "data": {
      "text/plain": [
       "RandomForestClassifier(criterion='entropy', n_estimators=500)"
      ]
     },
     "execution_count": 103,
     "metadata": {},
     "output_type": "execute_result"
    }
   ],
   "source": [
    "from sklearn.ensemble import RandomForestClassifier\n",
    "mod=RandomForestClassifier(n_estimators=500,criterion=\"entropy\")\n",
    "mod.fit(x_train,y_train)"
   ]
  },
  {
   "cell_type": "code",
   "execution_count": 104,
   "metadata": {},
   "outputs": [
    {
     "name": "stdout",
     "output_type": "stream",
     "text": [
      "Accuracy :  0.77\n"
     ]
    }
   ],
   "source": [
    "y_pred = mod.predict(x_test)\n",
    "print(\"Accuracy : \",accuracy_score(y_test,y_pred))"
   ]
  },
  {
   "cell_type": "code",
   "execution_count": 105,
   "metadata": {},
   "outputs": [
    {
     "data": {
      "text/plain": [
       "array([[81, 16],\n",
       "       [30, 73]], dtype=int64)"
      ]
     },
     "execution_count": 105,
     "metadata": {},
     "output_type": "execute_result"
    }
   ],
   "source": [
    "cm = confusion_matrix(y_test, y_pred)\n",
    " \n",
    "cm"
   ]
  },
  {
   "cell_type": "markdown",
   "metadata": {},
   "source": [
    "#### Naive byes"
   ]
  },
  {
   "cell_type": "code",
   "execution_count": 86,
   "metadata": {},
   "outputs": [
    {
     "data": {
      "text/plain": [
       "GaussianNB()"
      ]
     },
     "execution_count": 86,
     "metadata": {},
     "output_type": "execute_result"
    }
   ],
   "source": [
    "from sklearn.naive_bayes import GaussianNB\n",
    "classifier=GaussianNB()\n",
    "classifier.fit(x_train,y_train)\n"
   ]
  },
  {
   "cell_type": "code",
   "execution_count": 87,
   "metadata": {},
   "outputs": [],
   "source": [
    "y_pred=classifier.predict(x_test)"
   ]
  },
  {
   "cell_type": "code",
   "execution_count": 88,
   "metadata": {},
   "outputs": [
    {
     "name": "stdout",
     "output_type": "stream",
     "text": [
      "Accuracy :  0.73\n"
     ]
    }
   ],
   "source": [
    "print(\"Accuracy : \",accuracy_score(y_test,y_pred))"
   ]
  },
  {
   "cell_type": "code",
   "execution_count": 89,
   "metadata": {},
   "outputs": [
    {
     "data": {
      "text/plain": [
       "array([[56, 41],\n",
       "       [13, 90]], dtype=int64)"
      ]
     },
     "execution_count": 89,
     "metadata": {},
     "output_type": "execute_result"
    }
   ],
   "source": [
    "cm = confusion_matrix(y_test, y_pred)\n",
    " \n",
    "cm"
   ]
  },
  {
   "cell_type": "code",
   "execution_count": null,
   "metadata": {},
   "outputs": [],
   "source": []
  }
 ],
 "metadata": {
  "kernelspec": {
   "display_name": "Python 3.9.12 ('base')",
   "language": "python",
   "name": "python3"
  },
  "language_info": {
   "codemirror_mode": {
    "name": "ipython",
    "version": 3
   },
   "file_extension": ".py",
   "mimetype": "text/x-python",
   "name": "python",
   "nbconvert_exporter": "python",
   "pygments_lexer": "ipython3",
   "version": "3.9.12"
  },
  "orig_nbformat": 4,
  "vscode": {
   "interpreter": {
    "hash": "ad2bdc8ecc057115af97d19610ffacc2b4e99fae6737bb82f5d7fb13d2f2c186"
   }
  }
 },
 "nbformat": 4,
 "nbformat_minor": 2
}
